{
  "cells": [
    {
      "cell_type": "markdown",
      "source": [
        "# <center>DistilBERT model</center>"
      ],
      "metadata": {
        "id": "-qri-aeNyfDO"
      }
    },
    {
      "cell_type": "code",
      "execution_count": null,
      "metadata": {
        "id": "VdFYjxsr4wVe"
      },
      "outputs": [],
      "source": [
        "# učitavanje standardnih biblioteka za numerička izračunavanja, analizu, manipulaciju i vizualizaciju podataka\n",
        "import numpy as np\n",
        "import pandas as pd\n",
        "from matplotlib import pyplot as plt\n",
        "import seaborn\n",
        "\n",
        "# ucitavaju se biblioteke za rad sa tekstom\n",
        "import re\n",
        "import string\n",
        "\n",
        "# učitavanje neophodnih funkcija iz biblioteke scikit-learn\n",
        "# biblioteka se instalira komandom : pip install -U scikit-learn\n",
        "from sklearn.model_selection import train_test_split\n",
        "from sklearn.metrics import multilabel_confusion_matrix, classification_report, plot_confusion_matrix\n",
        "from sklearn.utils import class_weight\n",
        "\n",
        "# učitavanje neophodnih funkcija iz biblioteke TensorFlow\n",
        "# biblioteka se instalira komandom : pip install tensorflow\n",
        "import tensorflow as tf\n",
        "from tensorflow.keras.layers import Dense, Input, Dropout, GlobalAveragePooling1D\n",
        "from tensorflow.keras.models import Model\n",
        "from tensorflow.keras.optimizers import Adam\n",
        "from tensorflow.keras.losses import CategoricalCrossentropy\n",
        "import tensorflow.keras.metrics as metrics\n",
        "import tensorflow_hub as hub\n",
        "\n",
        "# učitavanje neophodnih funkcija iz biblioteke transformers\n",
        "# biblioteka se instalira komandom : pip install transformers\n",
        "import transformers\n",
        "from transformers import DistilBertTokenizerFast\n",
        "from transformers import TFDistilBertModel, DistilBertConfig\n",
        "\n",
        "# učitavanje funkcije za podelu multi-labelarnih podataka iz biblioteke scikit-multilearn\n",
        "# biblioteka se instalira komandom : pip install scikit-multilearn\n",
        "from skmultilearn.model_selection import iterative_train_test_split, IterativeStratification"
      ]
    },
    {
      "cell_type": "markdown",
      "source": [
        "# <center>Priprema podataka</center>"
      ],
      "metadata": {
        "id": "cIMs-BoUyysa"
      }
    },
    {
      "cell_type": "markdown",
      "metadata": {
        "id": "AdVquiYBfWf_"
      },
      "source": [
        "Koristeći *pandas* biblioteku, podaci zadati u formatu .csv (comma-separated values) učitavaju se u dataframe-ove. Oni su u startu podeljeni na trening i test podatke pa će na taj način i biti korišćeni."
      ]
    },
    {
      "cell_type": "code",
      "execution_count": null,
      "metadata": {
        "id": "6eIz3CwX5RR-"
      },
      "outputs": [],
      "source": [
        "train_data = pd.read_csv('data/train.csv')\n",
        "test_data = pd.read_csv('data/test.csv')\n",
        "test_labels = pd.read_csv('data/test_labels.csv')\n",
        "\n",
        "class_labels = ['toxic', 'severe_toxic', 'obscene', 'threat', 'insult', 'indentity_hate']"
      ]
    },
    {
      "cell_type": "markdown",
      "metadata": {
        "id": "WqEOwPCLfhwe"
      },
      "source": [
        "Definiše se funkcija koja ima za cilj da pripremi tekstualne podatke za prosleđivanje modelu. Odnosno njen zadatak je da očisti tekst od šumova. Neophodno je biti oprezan prilikom ovakvog preprocesiranja teksta. S obzirom da se koristi DistilBERT model koji može da nauči međusobne uticaje i odnose reči u rečenicama, ukljanjanjem određenih reči i simbola on neće biti u mogućnosti da ostvari svoj pun potencijal. Iz tog razloga se primenjuje blago čišćenje (korišćenjem regex-a) odnosno eliminišu se samo tokeni koji ne doprinose značenju teksta i predstavljaju šum."
      ]
    },
    {
      "cell_type": "code",
      "execution_count": null,
      "metadata": {
        "id": "6nBQZQCSDjSO"
      },
      "outputs": [],
      "source": [
        "def clean_text(text):\n",
        "    text =  text.lower()\n",
        "    text = re.sub(r'\\r', '', text)\n",
        "    text = re.sub(r'(\\(.*\\))|(\\[.*\\])', '',text)\n",
        "    text = re.sub(r'\\n', ' ', text)\n",
        "    text = re.sub(r'\\t', ' ', text)\n",
        "    text = re.sub(r'@\\S+', '', text)\n",
        "    text = re.sub(r'#\\S+', '', text)\n",
        "    text = re.sub(r'http[s]?\\://\\S+', '', text)\n",
        "    text = re.sub(r'<.*?>', '', text)\n",
        "    text = re.sub('\\s{2,}', ' ', text)\n",
        "    text = text.strip(' ')\n",
        "    return text"
      ]
    },
    {
      "cell_type": "markdown",
      "metadata": {
        "id": "3iMIuhgPLYOD"
      },
      "source": [
        "Takođe je potrebno takozvane kontakcije napisati u punoj formi, ova funkcija je preuzeta i uz određene dopune/izmene dodata u rad. Originalna verzija biće navedena u literaturi."
      ]
    },
    {
      "cell_type": "code",
      "execution_count": null,
      "metadata": {
        "id": "qWVLkUp_H1e_"
      },
      "outputs": [],
      "source": [
        "contractions_dict = { \"ain't\": \"are not\",\"'s\":\" is\",\"aren't\": \"are not\", \"im\" : \"i am\", \"i'm\" : \"i am\",\n",
        "                     \"can't\": \"cannot\",\"can't've\": \"cannot have\",\n",
        "                     \"'cause\": \"because\",\"could've\": \"could have\",\"couldn't\": \"could not\",\n",
        "                     \"couldn't've\": \"could not have\", \"didn't\": \"did not\",\"doesn't\": \"does not\",\n",
        "                     \"don't\": \"do not\",\"hadn't\": \"had not\",\"hadn't've\": \"had not have\",\n",
        "                     \"hasn't\": \"has not\",\"haven't\": \"have not\",\"he'd\": \"he would\",\n",
        "                     \"he'd've\": \"he would have\",\"he'll\": \"he will\", \"he'll've\": \"he will have\",\n",
        "                     \"how'd\": \"how did\",\"how'd'y\": \"how do you\",\"how'll\": \"how will\",\n",
        "                     \"I'd\": \"I would\", \"I'd've\": \"I would have\",\"I'll\": \"I will\",\n",
        "                     \"I'll've\": \"I will have\",\"I'm\": \"I am\",\"I've\": \"I have\", \"isn't\": \"is not\",\n",
        "                     \"it'd\": \"it would\",\"it'd've\": \"it would have\",\"it'll\": \"it will\",\n",
        "                     \"it'll've\": \"it will have\", \"let's\": \"let us\",\"ma'am\": \"madam\",\n",
        "                     \"mayn't\": \"may not\",\"might've\": \"might have\",\"mightn't\": \"might not\", \n",
        "                     \"mightn't've\": \"might not have\",\"must've\": \"must have\",\"mustn't\": \"must not\",\n",
        "                     \"mustn't've\": \"must not have\",\"needn't\": \"need not\",\n",
        "                     \"needn't've\": \"need not have\",\"o'clock\": \"of the clock\",\"oughtn't\": \"ought not\",\n",
        "                     \"oughtn't've\": \"ought not have\",\"shan't\": \"shall not\",\"sha'n't\": \"shall not\",\n",
        "                     \"shan't've\": \"shall not have\",\"she'd\": \"she would\",\"she'd've\": \"she would have\",\n",
        "                     \"she'll\": \"she will\", \"she'll've\": \"she will have\",\"should've\": \"should have\",\n",
        "                     \"shouldn't\": \"should not\", \"shouldn't've\": \"should not have\",\"so've\": \"so have\",\n",
        "                     \"that'd\": \"that would\",\"that'd've\": \"that would have\", \"there'd\": \"there would\",\n",
        "                     \"there'd've\": \"there would have\", \"they'd\": \"they would\",\n",
        "                     \"they'd've\": \"they would have\",\"they'll\": \"they will\",\n",
        "                     \"they'll've\": \"they will have\", \"they're\": \"they are\",\"they've\": \"they have\",\n",
        "                     \"to've\": \"to have\",\"wasn't\": \"was not\",\"we'd\": \"we would\",\n",
        "                     \"we'd've\": \"we would have\",\"we'll\": \"we will\",\"we'll've\": \"we will have\",\n",
        "                     \"we're\": \"we are\",\"we've\": \"we have\", \"weren't\": \"were not\",\"what'll\": \"what will\",\n",
        "                     \"what'll've\": \"what will have\",\"what're\": \"what are\", \"what've\": \"what have\",\n",
        "                     \"when've\": \"when have\",\"where'd\": \"where did\", \"where've\": \"where have\",\n",
        "                     \"who'll\": \"who will\",\"who'll've\": \"who will have\",\"who've\": \"who have\",\n",
        "                     \"why've\": \"why have\",\"will've\": \"will have\",\"won't\": \"will not\",\n",
        "                     \"won't've\": \"will not have\", \"would've\": \"would have\",\"wouldn't\": \"would not\",\n",
        "                     \"wouldn't've\": \"would not have\",\"y'all\": \"you all\", \"y'all'd\": \"you all would\",\n",
        "                     \"y'all'd've\": \"you all would have\",\"y'all're\": \"you all are\",\n",
        "                     \"y'all've\": \"you all have\", \"you'd\": \"you would\",\"you'd've\": \"you would have\",\n",
        "                     \"you'll\": \"you will\",\"you'll've\": \"you will have\",\"you're\": \"you are\",\n",
        "                     \"you've\": \"you have\",\"n't\": \"not\",\"n'\":\"ng\",\"till\": \"untill\",\"'bout\": \"about\",\"eg\":\"example\"}\n",
        "\n",
        "contractions_regex = re.compile('(%s)' % '|'.join(contractions_dict.keys()))\n",
        "\n",
        "def expand_contractions(text, contractions_dict = contractions_dict):\n",
        "  def replace(match):\n",
        "    return contractions_dict[match.group(0)]\n",
        "  return contractions_regex.sub(replace, text)"
      ]
    },
    {
      "cell_type": "markdown",
      "metadata": {
        "id": "NAsQqtrckBxq"
      },
      "source": [
        "Definisane funkcije se potom primenjuju na komentare:"
      ]
    },
    {
      "cell_type": "code",
      "execution_count": null,
      "metadata": {
        "id": "RyMwsdhQdgBm"
      },
      "outputs": [],
      "source": [
        "train_data['comment_text'] = train_data['comment_text'].apply(clean_text)\n",
        "test_data['comment_text'] = test_data['comment_text'].apply(clean_text)\n",
        "\n",
        "train_data['comment_text'] = train_data['comment_text'].apply(expand_contractions)\n",
        "test_data['comment_text'] = test_data['comment_text'].apply(expand_contractions)"
      ]
    },
    {
      "cell_type": "markdown",
      "metadata": {
        "id": "Y6BA_5aslFK7"
      },
      "source": [
        "Podaci se transformišu u adekvatan format za dalju upotrebu. \n",
        "Kako se u test skupu nalaze instance za koje nije definisana klasa kojoj pripadaju odnosno umesto 0 i 1 sve vrednosti su im -1, neophodno ih je izbaciti."
      ]
    },
    {
      "cell_type": "code",
      "execution_count": null,
      "metadata": {
        "id": "wLU0P5sl7gR1"
      },
      "outputs": [],
      "source": [
        "x_train = train_data.comment_text.astype('string').to_numpy()\n",
        "y_train = train_data.iloc[:, 2:].to_numpy()\n",
        "\n",
        "# određuju se indeksi nekorektno zadatih instanci u test skupu\n",
        "indeksi = np.where(test_labels.iloc[:, 1:].to_numpy().sum(axis = 1) != -6)[0]\n",
        "# eliminišu se nekorektno zadate instance\n",
        "x_test = test_data.comment_text.iloc[indeksi].astype('string').tolist()\n",
        "y_test = test_labels.iloc[:, 1:].to_numpy()[indeksi]"
      ]
    },
    {
      "cell_type": "markdown",
      "metadata": {
        "id": "84oi8e1rmfHX"
      },
      "source": [
        "Da bi se utvrdilo da li je moguće stratifikovati trening skup kako bi se izdvojio i validacioni skup za model koji će biti napravljen, neophodno je odrediti sve moguće kombinacije klasa kojima instance pripadaju. Standardne bibliotečke funkcije ne funkcionišu u multi-labelarnom slučaju pa je neophodno one-hot enkodiranje klasa pretvoriti u sparse kodiranje."
      ]
    },
    {
      "cell_type": "code",
      "execution_count": null,
      "metadata": {
        "id": "TY3u4z8-0zZn"
      },
      "outputs": [],
      "source": [
        "# određuju se jedinstvene kombinacije klasa \n",
        "train_labels_unique = np.unique(y_train, axis = 0)\n",
        "# kreira se niz indeksa za sparse kodiranje jedinstvenih klasa\n",
        "train_labels_int = np.arange(0, len(train_labels_unique))\n",
        "# u okviru liste čuvaju se dva načina kodiranja različitih klasa\n",
        "z = [train_labels_unique, train_labels_int]\n",
        "train_labels = []\n",
        "# prolazi se kroz duplu petlju po indeksima instanci a onda po sparse oznaci različitih klasa\n",
        "for i in range(0, len(y_train)):\n",
        "  for j in range(0, len(train_labels_int)):\n",
        "    # ispituje se da li je one-hot ekodiranje klase jednako datom\n",
        "    if np.array_equal(y_train[i], z[0][j]):\n",
        "      # ukoliko jeste dodeljuje mu se sparse enkodiranje\n",
        "      train_labels.append(z[1][j])\n",
        "# cuvaju se sparse kodiranja instanci\n",
        "train_labels = np.array(train_labels)"
      ]
    },
    {
      "cell_type": "markdown",
      "metadata": {
        "id": "zNxm8T1jny75"
      },
      "source": [
        "Postoji 41 kombinacija klasa i broj instanci koje im pripadaju dat je u narednom delu"
      ]
    },
    {
      "cell_type": "code",
      "execution_count": null,
      "metadata": {
        "colab": {
          "base_uri": "https://localhost:8080/"
        },
        "id": "MkdrAFj02two",
        "outputId": "e83e78a8-aa00-4ae4-fbcd-b8d7f840c1d7"
      },
      "outputs": [
        {
          "output_type": "execute_result",
          "data": {
            "text/plain": [
              "0     143346\n",
              "12      5666\n",
              "22      3800\n",
              "20      1758\n",
              "14      1215\n",
              "36       989\n",
              "23       618\n",
              "6        317\n",
              "2        301\n",
              "37       265\n",
              "8        181\n",
              "34       158\n",
              "13       136\n",
              "15       134\n",
              "25       131\n",
              "16       113\n",
              "39        64\n",
              "26        56\n",
              "1         54\n",
              "27        41\n",
              "21        35\n",
              "40        31\n",
              "3         28\n",
              "4         22\n",
              "9         18\n",
              "18        16\n",
              "29        14\n",
              "24        11\n",
              "31        11\n",
              "17         7\n",
              "30         7\n",
              "35         6\n",
              "38         4\n",
              "5          3\n",
              "19         3\n",
              "28         3\n",
              "7          3\n",
              "10         2\n",
              "11         2\n",
              "33         1\n",
              "32         1\n",
              "dtype: int64"
            ]
          },
          "metadata": {},
          "execution_count": 10
        }
      ],
      "source": [
        "pd.Series(train_labels).value_counts()"
      ]
    },
    {
      "cell_type": "markdown",
      "metadata": {
        "id": "7OTariNMoRjc"
      },
      "source": [
        "Kako postoje kombinacije klasa kojima pripada samo jedna instanca čak ni sparse kodiranje neće pomoći prilikom podele skupa na trening i validacioni deo standardnom *train_test_split* funkcijom. Stoga se ovaj problem rešava primenom funkcije *iterative_train_test_split* koja je prilagođena ovakvom problemu i definisana je oslanjajući se na *IterativeStratification* iz biblioteke *skmultilearn*."
      ]
    },
    {
      "cell_type": "code",
      "execution_count": null,
      "metadata": {
        "id": "eRRktKBw2xew"
      },
      "outputs": [],
      "source": [
        "def iterative_train_test_split(X, y, test_size):\n",
        "    # kreira se stratifikator koji polazni skup deli na dva dela u zadatoj razmeri obraćajući pažnju na multi-labelarnost\n",
        "    # order 6 označava da je potrebno uzeti u obzir međuzavisnosti 6. reda odnosno za 6 dostupnih klasa\n",
        "    stratifier = IterativeStratification(n_splits = 2, order = 6, sample_distribution_per_fold = [test_size, 1 - test_size, ])\n",
        "    # definišu se indeksi trening i test skupa i vrši se podela podataka\n",
        "    train_index, test_index = next(stratifier.split(X, y))\n",
        "    X_train, y_train = X[train_index], y[train_index]\n",
        "    X_test, y_test = X[test_index], y[test_index]\n",
        "    # vraća se podeljeni dataset\n",
        "    return X_train, X_test, y_train, y_test\n",
        "\n",
        "x_train, x_val, y_train, y_val = iterative_train_test_split(x_train, y_train, test_size = 0.25)"
      ]
    },
    {
      "cell_type": "markdown",
      "metadata": {
        "id": "F4jCJ_zMsQDW"
      },
      "source": [
        "S obzirom da je u delu analize i pripreme podataka utvrđeno da je reč o nebalansiranom skupu podataka, potrebno je na neki način obraditi ovaj problem. Bazični oversampling i undersampling neće biti od koristi. Kako je svaki komentar autentičan i značajno se razlikuju među sobom oversamplingom se može stvoriti pristrasnost prema određenim rečima kao i jezičkim strukturama manjinskih klasa što nije poželjno. Sa druge strane smanjivanjem instanci dominantne klase će se značajno umanjiti skup podataka i time smanjiti sposobnost modela za uočavanje te klase. Tehnike kao što su SMOTE algoritam funkcionišu kada postoji prostor nad kojim se može definisati rastojanje što je moguće jedino učiniti kada se reči predstave na način razumljiv računaru, odnosno enkodiraju numerički. Tada će problem predstavljati to što će se veštačkim generisanjem novih instanci dobiti enkodirani tekst koji možda neće imati nikakvog smisla i negativno će uticati na proces učenja. Jedna od tehnika koja može biti korisna u ovom slučaju jeste zadavanje težina. S obzirom da se radi o multi-labelarnoj klasifikaciji potrebno je definisati novu funkciju za određivanje težina, jer bibliotečka nije od koristi. Naprednije tehnike za rešavanje ovog problema uključuju augmentaciju teksta baziranu na transformerima. Ovakve metode su izuzetno računski i vremenski zahtevne pa se po prioritetu primene nalaze na poslednjem mestu, samo u slučaju da su performanse modela izuzetno loše. \n",
        "\n",
        "Bitno je naglasiti da BERT modeli imaju strukturu neuronskih mreža, koje kao kompleksan model mogu da se dosta dobro prilagode i zadovoljavajuće obrade nebalansirane skupove podataka, stoga se neretko ne primenjuje nikakva vrsta procesiranja radi postizanja balansa klasa."
      ]
    },
    {
      "cell_type": "code",
      "execution_count": null,
      "metadata": {
        "id": "B7uU8_np4-cz"
      },
      "outputs": [],
      "source": [
        "def class_weights_multilabel(data, labels):\n",
        "    # čuva se broj klasa \n",
        "    n_class = data.shape[1]\n",
        "    # brojač instanci svake klase se inicijalizuje na nule\n",
        "    class_counter = np.repeat(0, n_class)\n",
        "    # za svaku instancu iz skupa podataka se prolazi kroz petlju\n",
        "    for instance in data:\n",
        "        # petljom prolazi se kroz skup mogućih klasa \n",
        "        for class_index in range(0, n_class):\n",
        "            # vrši se provera da li instanca pripada određenoj klasi\n",
        "            if instance[class_index] != 0:\n",
        "                # ako da, brojač te klase se uvećava za 1\n",
        "                class_counter[class_index] = class_counter[class_index] + 1\n",
        "\n",
        "    # određuje se dimenzija skupa podataka\n",
        "    n_data = data.shape[0]\n",
        "    # formulom predloženom u standardnoj sample_weights funkciji računaju se težine klasa koristeći list comprehension            \n",
        "    class_weights = [(n_data / (n_class * frequency)) if frequency > 0 else 1 for frequency in class_counter]\n",
        "    # definišu se nazivi klasa\n",
        "    class_labels = labels \n",
        "    \n",
        "    # u vidu rečnika (klasa: težina) funkcija vraća težine klasa\n",
        "    return dict(zip(class_labels, class_weights))"
      ]
    },
    {
      "cell_type": "code",
      "execution_count": null,
      "metadata": {
        "colab": {
          "base_uri": "https://localhost:8080/"
        },
        "id": "cdXs6BaU6dcz",
        "outputId": "c50aa69a-6587-4663-a928-c8757a18a6ed"
      },
      "outputs": [
        {
          "output_type": "execute_result",
          "data": {
            "text/plain": [
              "{'toxic': 1.738848690901694,\n",
              " 'severe_toxic': 16.67753623188406,\n",
              " 'obscene': 3.147598758613434,\n",
              " 'threat': 55.71601489757914,\n",
              " 'insult': 3.3761566237869554,\n",
              " 'indentity_hate': 18.92441492726123}"
            ]
          },
          "metadata": {},
          "execution_count": 13
        }
      ],
      "source": [
        "sample_weights = class_weights_multilabel(y_train, class_labels)\n",
        "sample_weights"
      ]
    },
    {
      "cell_type": "markdown",
      "metadata": {
        "id": "xP7L_aQZyFzR"
      },
      "source": [
        "Kako prilikom testiranja više različitih težina nije dobijen rezultat kvalitetniji od obične primene modela, one neće biti korišćene prilikom treninga već deo vezan za nebalansiranost ima informacioni karakter."
      ]
    },
    {
      "cell_type": "markdown",
      "metadata": {
        "id": "p5noAuh8MV-S"
      },
      "source": [
        "Kako bi tekst komentara bio razumljiv računaru, neophodno je izvršiti embedding. Pre toga tekst se razdvaja na reči/tokene, na početku se dodaje token $[CLS]$ što označava klasifikator dok se na kraju svake rečenice dodaje token $[SEP]$ koji predstavlja separator teksta. Kako model obrađuje tekst u celosti a ne sekvencijalno, neophodno je definisati maksimalnu dužinu teksta koji će biti učitan. Na osnovu preliminarne analize utvrđuje se da je optimalna dužina $200$ reči (maksimalan podržan broj jeste $512$). Svaki tekst koji ima više od navedenog broja biće skraćen. U narednom koraku se specijalizovanim embedding slojem komentari se konvertuju u vektore od $200$ celobrojnih vrednosti, svaki token je predstavljen jednim elementom vektora, dok se eventualni preostali prostor dopunjuje nulama. Takođe se pored vektora embeddinga tokena, kreira i vektor maske koji predstavlja indikator da li je data pozicija vektora enkodirani token ($1$) ili predstavlja padding ($0$). Ovakav format je pogodan za prosleđivanje podataka modelu. Naredna slika prikazuje definisani postupak.\n",
        "\n"
      ]
    },
    {
      "cell_type": "markdown",
      "metadata": {
        "id": "Cp-055acPVgH"
      },
      "source": [
        "![bert_embedding.png](data:image/png;base64,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)"
      ]
    },
    {
      "cell_type": "code",
      "execution_count": null,
      "metadata": {
        "id": "pBVuP0rm-9kq",
        "colab": {
          "base_uri": "https://localhost:8080/",
          "height": 17,
          "referenced_widgets": [
            "099cd49aa1dd4e7eafcbd6c1e39dc40e",
            "3e652c4be7e8471c99d4549fc167ea9d",
            "7734355e209f4054b0d835bbb7b0debb",
            "bda5035c4ca246e1a1b81055352e9d42",
            "a57b5d1a284b439f88f8205636a6f963",
            "10835466a75c467696eadd095f1ca0cb",
            "d8405cc95d8a47ab99fc5897ac19c28c",
            "a211a6a758294166aeca074d666aa870",
            "1b3a8ceb2cd641b3b692b461b3ea5a6f",
            "132742fe6c384066af5b56a44adf1a72",
            "aed04a785a444e99afd89be31759def7",
            "5cf2a5aa7429401b8d2bf142f6b50dbf",
            "4d0fd78917d44005ae1f1dec5680ffbe",
            "f93968a54ae04f3fb8f825f2148c780f",
            "accee74090014e46b04ca09d71101f1d",
            "443b6b41e04f45f8ba4d7dc2b5ece5a8",
            "aa482217008743cb93cf8583a0fa385f",
            "33b337eed90a4e849c0479eaa90b37fb",
            "127e4c44c2ea469b8ee1ed2359c65076",
            "55ec41424f284ec0944f5ffb0b480c42",
            "dc0d876f39154bec91e3f802ca6b93da",
            "5907af236f554f21a84e66405b4dd69c",
            "c839438ee83f4ee392e69d046b25f0c8",
            "e6331a0116d04df4ba796b20f13d9c60",
            "20a03b3249124109ad051a95a1181878",
            "c7c86125710c4426af9efc4fcd8af3fb",
            "be0723dcd6654db9a2fa04fcc91206df",
            "dc9b723a846a425981c6468554657875",
            "fc8624349bf7437caaaf7ff46d24c418",
            "4fa9cea0f3f04142a05315f5c3009af4",
            "8b4d5a0fd2cc4fb2addb7ebf262c4bcd",
            "70fa9f4c8cf4460aa51017bbb7a32679",
            "92eeed82675a4d649f0c45079fc3b0d9",
            "4c54f0b1420341749720057f5c06dd0b",
            "6cc553db26cf4e739c88ca0d2ee4cf20",
            "f8b56eb671ac4639b8314b99d9646f9c",
            "3f2dd0608ae04dcc88c6f4e622c1f0c3",
            "834625bdcea04f89b3dd6488db693f47",
            "45c20da6b39a4a85895ffc9f3a85ae58",
            "6789fe270bcd41eca5ffb32eed155592",
            "561bf7f59c6e447382844829cab6b5d7",
            "9125233e3eee40869487096b59aa23af",
            "e82a72b7481d461f9b6d49197e0f5030",
            "0be66de1f30e4a2ca8ab0db7c3a4a7be"
          ]
        },
        "outputId": "3c26321e-08c3-420c-fa25-ba1d8989307e"
      },
      "outputs": [
        {
          "output_type": "display_data",
          "data": {
            "text/plain": [
              "Downloading tokenizer_config.json:   0%|          | 0.00/28.0 [00:00<?, ?B/s]"
            ],
            "application/vnd.jupyter.widget-view+json": {
              "version_major": 2,
              "version_minor": 0,
              "model_id": "099cd49aa1dd4e7eafcbd6c1e39dc40e"
            },
            "application/json": {
              "n": 0,
              "total": 28,
              "elapsed": 0.01931619644165039,
              "ncols": null,
              "nrows": null,
              "prefix": "Downloading tokenizer_config.json",
              "ascii": false,
              "unit": "B",
              "unit_scale": true,
              "rate": null,
              "bar_format": null,
              "postfix": null,
              "unit_divisor": 1024,
              "initial": 0,
              "colour": null
            }
          },
          "metadata": {}
        },
        {
          "output_type": "display_data",
          "data": {
            "text/plain": [
              "Downloading vocab.txt:   0%|          | 0.00/226k [00:00<?, ?B/s]"
            ],
            "application/vnd.jupyter.widget-view+json": {
              "version_major": 2,
              "version_minor": 0,
              "model_id": "5cf2a5aa7429401b8d2bf142f6b50dbf"
            },
            "application/json": {
              "n": 0,
              "total": 231508,
              "elapsed": 0.019901752471923828,
              "ncols": null,
              "nrows": null,
              "prefix": "Downloading vocab.txt",
              "ascii": false,
              "unit": "B",
              "unit_scale": true,
              "rate": null,
              "bar_format": null,
              "postfix": null,
              "unit_divisor": 1024,
              "initial": 0,
              "colour": null
            }
          },
          "metadata": {}
        },
        {
          "output_type": "display_data",
          "data": {
            "text/plain": [
              "Downloading tokenizer.json:   0%|          | 0.00/455k [00:00<?, ?B/s]"
            ],
            "application/vnd.jupyter.widget-view+json": {
              "version_major": 2,
              "version_minor": 0,
              "model_id": "c839438ee83f4ee392e69d046b25f0c8"
            },
            "application/json": {
              "n": 0,
              "total": 466062,
              "elapsed": 0.03140830993652344,
              "ncols": null,
              "nrows": null,
              "prefix": "Downloading tokenizer.json",
              "ascii": false,
              "unit": "B",
              "unit_scale": true,
              "rate": null,
              "bar_format": null,
              "postfix": null,
              "unit_divisor": 1024,
              "initial": 0,
              "colour": null
            }
          },
          "metadata": {}
        },
        {
          "output_type": "display_data",
          "data": {
            "text/plain": [
              "Downloading config.json:   0%|          | 0.00/483 [00:00<?, ?B/s]"
            ],
            "application/vnd.jupyter.widget-view+json": {
              "version_major": 2,
              "version_minor": 0,
              "model_id": "4c54f0b1420341749720057f5c06dd0b"
            },
            "application/json": {
              "n": 0,
              "total": 483,
              "elapsed": 0.018156051635742188,
              "ncols": null,
              "nrows": null,
              "prefix": "Downloading config.json",
              "ascii": false,
              "unit": "B",
              "unit_scale": true,
              "rate": null,
              "bar_format": null,
              "postfix": null,
              "unit_divisor": 1024,
              "initial": 0,
              "colour": null
            }
          },
          "metadata": {}
        }
      ],
      "source": [
        "# učitava se tokenizator DistilBERT modela\n",
        "# sufiks Fast označava da je reč o implementaciji koja je vremenski efikasnija\n",
        "tokenizer = transformers.DistilBertTokenizerFast.from_pretrained('distilbert-base-uncased')\n",
        "\n",
        "# definiše se funkcija koja vrši enkodiranje ulaza\n",
        "def embedding(texts, tokenizer, max_len = 512):\n",
        "    # definišu se liste u kojima će se smeštati embedding tokena kao i indikatori pozicije\n",
        "    all_tokens = []\n",
        "    all_masks = []\n",
        "    \n",
        "    # za svaki komentar iz skupa se prolazi kroz petlju\n",
        "    for text in texts:\n",
        "      # komentar se deli na tokene\n",
        "        text = tokenizer.tokenize(text)\n",
        "\n",
        "        # tekst se skraćuje na dozvoljenu dužinu - 2 (rezervisano za [CLS] i [SEP])    \n",
        "        text = text[:(max_len - 2)]\n",
        "        # na početak i kraj se dodaju redom tokeni klasifikacije [CLS] i separacije [SEP]\n",
        "        input_sequence = ['[CLS]'] + text + ['[SEP]']\n",
        "        # određuje se koliko je prostora ostalo nepopunjeno, u slučaju da tekst ima manje od max_len tokena\n",
        "        length = max_len - len(input_sequence)\n",
        "        \n",
        "        # za svaki token se određuje numerička reprezentacija\n",
        "        tokens = tokenizer.convert_tokens_to_ids(input_sequence)\n",
        "        # preostali prostor se popunjava nulama\n",
        "        tokens = tokens + [0] * length\n",
        "        # kreira se maska indikatora enkodiranog tokena\n",
        "        masks = [1] * len(input_sequence) + [0] * length\n",
        "        \n",
        "        # dobijene vrednosti za tekući komentar se smeštaju u listu\n",
        "        all_tokens.append(tokens)\n",
        "        all_masks.append(masks)\n",
        "\n",
        "    # fukcija kao povratnu vrednost prosleđuje ekodirane tokene i maske    \n",
        "    return np.array(all_tokens, dtype = 'int32'), np.array(all_masks, dtype = 'int32')"
      ]
    },
    {
      "cell_type": "markdown",
      "metadata": {
        "id": "mIomsLurSSMU"
      },
      "source": [
        "Vrši se embedding teksta komentara iz trening, validacionog i test skupa:"
      ]
    },
    {
      "cell_type": "code",
      "execution_count": null,
      "metadata": {
        "colab": {
          "base_uri": "https://localhost:8080/"
        },
        "id": "iCJMv4xVJ5Vk",
        "outputId": "82b05056-7475-43ce-b75e-a0b403f44e76"
      },
      "outputs": [
        {
          "output_type": "stream",
          "name": "stderr",
          "text": [
            "Token indices sequence length is longer than the specified maximum sequence length for this model (672 > 512). Running this sequence through the model will result in indexing errors\n"
          ]
        }
      ],
      "source": [
        "X_train = embedding(x_train, tokenizer, max_len = 200)\n",
        "X_val = embedding(x_val, tokenizer, max_len = 200)\n",
        "X_test = embedding(x_test, tokenizer, max_len = 200)"
      ]
    },
    {
      "cell_type": "markdown",
      "source": [
        "# <center>Konfiguracija modela</center>"
      ],
      "metadata": {
        "id": "Mn_QuYyRy8Y_"
      }
    },
    {
      "cell_type": "markdown",
      "metadata": {
        "id": "t1FyijpANZNJ"
      },
      "source": [
        "Definiše se funkcija koja za cilj ima kreiranje DistilBERT modela za klasifikaciju komentara. Kao ulazi se modelu prosleđuju vektori embeddinga tokena tokena i vektori maski, koji se potom transformišu korišćenjem DistilBERT strukture sastavljene od $6$ enkodera (svaki ima $12$ glava sa mehanizmom pažnje). Prilikom obrade ulaza DistilBERT strukturom za svaki token se kao izlaz dobija vektor od $768$ vrednosti koji nose određenu informaciju. Kako je zadatak vršiti klasifikaciju komentara odnosno analizu sentimenta od interesa je izlaz poslednjeg sloja enkodera za (prvi) token $[CLS]$. Na taj izlaz se primenjuje gusti sloj koji ima cilj da odredi verovatnoću pripadanja tekućeg komentara svakoj od 6 mogućih klasa. S obzirom da je reč o multi-labelarnoj klasifikaciji kao aktivaciona funkcija se ne primenjuje $softmax$, što je uobičajeno kod problema klasifikacije. Razlog za to jeste što se tom prilikom komponente vektora koji daje verovatnoću pripadanja određenoj klasi sabiraju na 1. U tom slučaju se podrazumeva da svaka instanca pripada tačno jednoj klasi, što u datom problemu nije slučaj, te se gubi dosta informacije o instanci. Zato se primenjuje $sigmoid$ aktivacija, kako bi se procenila verovatnoća pripadanja instance svakoj klasi pojedinačno. Prilikom kompilacije modela za optimizacioni algoritam postavlja se Adam sa predloženim parametrima learning\\_rate = 1e-5 i decay = 1e-6. Funkcija greške je binarna unakrsna entropija zbog toga što se koristi $sigmoid$ aktivacija pa će se greška računati pokoordinatno za svaki sigmoidni izlaz modela pojedinačno, iz tog razloga se koristi binarna umesto kategoričke unakrsne entropije. Što se tiče metrika za evaluaciju biće korišćene tačnost, preciznost i odziv (jer F1 skor nije podržan pa se u tom slučaju posmatraju vrednosti iz kojih je izveden) kao i AUC vrednost prilagođena za multi-labelarnu klasifikaciju."
      ]
    },
    {
      "cell_type": "code",
      "execution_count": null,
      "metadata": {
        "id": "wslSwUezEFX0"
      },
      "outputs": [],
      "source": [
        "def build_model(transformer, max_len = 512):\n",
        "    # kao ulazi se modelu prosleđuju ekodirani tokeni i vektori maske \n",
        "    input_ids = Input(shape = (max_len, ), dtype = tf.int32, name = 'token_id_input')\n",
        "    input_mask = Input(shape = (max_len, ), dtype = tf.int32, name = 'attention_mask_input')\n",
        "\n",
        "    # prilikom klasifikacije komentara od značaja je samo izlaz kompozicije enkodera za (prvi - enumerisan sa 0) token odnosno [CLS]\n",
        "    # stoga se izlaz ovog tokena u vidu vektora od 768 vrednosti čuva u promenljivoj cls_output\n",
        "    cls_output = transformer([input_ids, input_mask])[0][:, 0, :]\n",
        "    # gusti sloj sa 6 jedinica i sigmoidnom aktivacijom ima za cilj da za svaku klasu odredi verovatnoću pripadanja\n",
        "    output = Dense(6, activation = 'sigmoid', name = 'classification_layer')(cls_output)\n",
        "    \n",
        "    # definišu se ulazi i izlazi modela\n",
        "    model = Model(inputs = [input_ids, input_mask], outputs = output, name = 'DistilBert')\n",
        "\n",
        "    # definišu se optimizacioni algoritam, greška kao i mere kvaliteta modela\n",
        "    model.compile(optimizer = Adam(learning_rate = 1e-5, decay = 1e-6), loss = 'binary_crossentropy', metrics = [tf.metrics.BinaryAccuracy(name = 'accuracy'), tf.metrics.Precision(name = 'precision'), tf.keras.metrics.Recall(name = 'recall'), tf.metrics.AUC(multi_label = True, name = \"AUC\")])\n",
        "    \n",
        "    # funkcija vraća model\n",
        "    return model"
      ]
    },
    {
      "cell_type": "code",
      "execution_count": null,
      "metadata": {
        "colab": {
          "base_uri": "https://localhost:8080/",
          "height": 575,
          "referenced_widgets": [
            "9aacf1c258364cab89487d54053d62f3",
            "23a878f322034491b66b73090afaafc0",
            "8ef3e5d543d34dba821874a8a74cb953",
            "826477d69daa42f79a2019aea80422ad",
            "2e56c0d451cd4966ac9e40de83a92065",
            "2e762a8595d944f6bed1214f97ccae29",
            "be77471c30a74bb0abb1bcda2f7c516c",
            "db9d118090174bf7874d693388082235",
            "3a7fb9bef5744b8aba77ebb13aeef1ce",
            "50b27decbf2c4974a5b0135073fa678e",
            "c6c816b2b5644338b74b8c126483bc28"
          ]
        },
        "id": "qW1JdMLGEUtz",
        "outputId": "fd1e5992-b759-4c3d-fb84-8232ffc0fd0e"
      },
      "outputs": [
        {
          "output_type": "display_data",
          "data": {
            "text/plain": [
              "Downloading tf_model.h5:   0%|          | 0.00/347M [00:00<?, ?B/s]"
            ],
            "application/vnd.jupyter.widget-view+json": {
              "version_major": 2,
              "version_minor": 0,
              "model_id": "9aacf1c258364cab89487d54053d62f3"
            },
            "application/json": {
              "n": 0,
              "total": 363423424,
              "elapsed": 0.02176666259765625,
              "ncols": null,
              "nrows": null,
              "prefix": "Downloading tf_model.h5",
              "ascii": false,
              "unit": "B",
              "unit_scale": true,
              "rate": null,
              "bar_format": null,
              "postfix": null,
              "unit_divisor": 1024,
              "initial": 0,
              "colour": null
            }
          },
          "metadata": {}
        },
        {
          "output_type": "stream",
          "name": "stderr",
          "text": [
            "Some layers from the model checkpoint at distilbert-base-uncased were not used when initializing TFDistilBertModel: ['vocab_transform', 'vocab_layer_norm', 'activation_13', 'vocab_projector']\n",
            "- This IS expected if you are initializing TFDistilBertModel from the checkpoint of a model trained on another task or with another architecture (e.g. initializing a BertForSequenceClassification model from a BertForPreTraining model).\n",
            "- This IS NOT expected if you are initializing TFDistilBertModel from the checkpoint of a model that you expect to be exactly identical (initializing a BertForSequenceClassification model from a BertForSequenceClassification model).\n",
            "All the layers of TFDistilBertModel were initialized from the model checkpoint at distilbert-base-uncased.\n",
            "If your task is similar to the task the model of the checkpoint was trained on, you can already use TFDistilBertModel for predictions without further training.\n"
          ]
        },
        {
          "output_type": "stream",
          "name": "stdout",
          "text": [
            "Model: \"DistilBert\"\n",
            "__________________________________________________________________________________________________\n",
            " Layer (type)                   Output Shape         Param #     Connected to                     \n",
            "==================================================================================================\n",
            " token_id_input (InputLayer)    [(None, 200)]        0           []                               \n",
            "                                                                                                  \n",
            " attention_mask_input (InputLay  [(None, 200)]       0           []                               \n",
            " er)                                                                                              \n",
            "                                                                                                  \n",
            " tf_distil_bert_model (TFDistil  TFBaseModelOutput(l  66362880   ['token_id_input[0][0]',         \n",
            " BertModel)                     ast_hidden_state=(N               'attention_mask_input[0][0]']   \n",
            "                                one, 200, 768),                                                   \n",
            "                                 hidden_states=None                                               \n",
            "                                , attentions=None)                                                \n",
            "                                                                                                  \n",
            " tf.__operators__.getitem (Slic  (None, 768)         0           ['tf_distil_bert_model[0][0]']   \n",
            " ingOpLambda)                                                                                     \n",
            "                                                                                                  \n",
            " classification_layer (Dense)   (None, 6)            4614        ['tf.__operators__.getitem[0][0]'\n",
            "                                                                 ]                                \n",
            "                                                                                                  \n",
            "==================================================================================================\n",
            "Total params: 66,367,494\n",
            "Trainable params: 66,367,494\n",
            "Non-trainable params: 0\n",
            "__________________________________________________________________________________________________\n"
          ]
        }
      ],
      "source": [
        "# definiše se konfiguracija DistilBERT modela, pri čemu se zadržavaju predložene vrednosti, osim što se vrednost parametra Dropout \n",
        "# slojeva regularizacije postavlja na vrednost 0.2\n",
        "config = DistilBertConfig(dropout = 0.2, attention_dropout = 0.2)\n",
        "# definiše se pre-trenirani DistilBERT model sa zadatom konfiguracijom\n",
        "distilbert_layer = transformers.TFDistilBertModel.from_pretrained('distilbert-base-uncased', config = config)\n",
        "# kreira se model sa zadatim parametrima i ispisuje se izveštaj\n",
        "model = build_model(distilbert_layer, max_len = 200)\n",
        "model.summary()"
      ]
    },
    {
      "cell_type": "markdown",
      "source": [
        "# <center>Trening modela</center>"
      ],
      "metadata": {
        "id": "eGiBEryUzFzc"
      }
    },
    {
      "cell_type": "markdown",
      "metadata": {
        "id": "Ar_-3hjhZQPb"
      },
      "source": [
        "Vrši se treniranje modela u 3 epohe sa sa veličinom paketa 32, za validaciju se koriste prethodno definisani skupovi."
      ]
    },
    {
      "cell_type": "code",
      "execution_count": null,
      "metadata": {
        "colab": {
          "base_uri": "https://localhost:8080/"
        },
        "id": "PxBDlKTKFJfe",
        "outputId": "a803beb3-ecdd-4249-c3df-3153bb4165eb"
      },
      "outputs": [
        {
          "output_type": "stream",
          "name": "stdout",
          "text": [
            "Epoch 1/3\n",
            "3740/3740 [==============================] - 2581s 687ms/step - loss: 0.0489 - accuracy: 0.9817 - precision: 0.7973 - recall: 0.6714 - AUC: 0.9703 - val_loss: 0.0402 - val_accuracy: 0.9841 - val_precision: 0.7885 - val_recall: 0.7746 - val_AUC: 0.9825\n",
            "Epoch 2/3\n",
            "3740/3740 [==============================] - 2571s 687ms/step - loss: 0.0372 - accuracy: 0.9851 - precision: 0.8282 - recall: 0.7477 - AUC: 0.9855 - val_loss: 0.0458 - val_accuracy: 0.9813 - val_precision: 0.6951 - val_recall: 0.8712 - val_AUC: 0.9846\n",
            "Epoch 3/3\n",
            "3740/3740 [==============================] - 2572s 688ms/step - loss: 0.0331 - accuracy: 0.9864 - precision: 0.8390 - recall: 0.7798 - AUC: 0.9894 - val_loss: 0.0399 - val_accuracy: 0.9840 - val_precision: 0.7580 - val_recall: 0.8280 - val_AUC: 0.9825\n"
          ]
        }
      ],
      "source": [
        "train_history = model.fit(X_train, y_train, epochs = 3, batch_size = 32, validation_data = (X_val, y_val))"
      ]
    },
    {
      "cell_type": "code",
      "execution_count": null,
      "metadata": {
        "colab": {
          "base_uri": "https://localhost:8080/",
          "height": 346
        },
        "id": "5MXzAQ9sj4gq",
        "outputId": "c51c5ac7-a920-4b0f-de1d-d5a17c5778ad"
      },
      "outputs": [
        {
          "output_type": "display_data",
          "data": {
            "text/plain": [
              "<Figure size 2016x576 with 5 Axes>"
            ],
            "image/png": "[encoded data removed]"
          },
          "metadata": {
            "needs_background": "light"
          }
        }
      ],
      "source": [
        "# čuva se broj u koliko je epoha treniran model\n",
        "epochs = train_history.epoch\n",
        "\n",
        "# čuvaju se vrednosti greške kao i mera kvaliteta na trening i validacionom skupu\n",
        "loss = train_history.history['loss']\n",
        "val_loss = train_history.history['val_loss']\n",
        "\n",
        "accuracy = train_history.history['accuracy']\n",
        "val_accuracy = train_history.history['val_accuracy']\n",
        "\n",
        "precision = train_history.history['precision']\n",
        "val_precision = train_history.history['val_precision']\n",
        "\n",
        "recall = train_history.history['recall']\n",
        "val_recall = train_history.history['val_recall']\n",
        "\n",
        "AUC = train_history.history['AUC']\n",
        "val_AUC = train_history.history['val_AUC']\n",
        "\n",
        "\n",
        "# iscrtava se grafik zadate veličine\n",
        "plt.figure(figsize = (28, 8))\n",
        "\n",
        "# za svaki od korišćenih kriterijuma iscrtava se grafik vrednosti greške/mere kvaliteta u zavisnosti od broja epohe\n",
        "plt.subplot(1, 5, 1)\n",
        "plt.plot(epochs, loss, label = 'train')\n",
        "plt.plot(epochs, val_loss, label = \"validation\")\n",
        "plt.xlabel('Broj epohe')\n",
        "plt.ylabel('loss')\n",
        "plt.legend(loc = 'best')\n",
        "\n",
        "plt.subplot(1, 5, 2)\n",
        "plt.plot(epochs, accuracy, label = 'train')\n",
        "plt.plot(epochs, val_accuracy, label = 'validation')\n",
        "plt.xticks(epochs)\n",
        "plt.xlabel('Broj epohe')\n",
        "plt.ylabel('accuracy')\n",
        "plt.legend(loc = 'best')\n",
        "\n",
        "plt.subplot(1, 5, 3)\n",
        "plt.plot(epochs, precision, label = 'train')\n",
        "plt.plot(epochs, val_precision, label = 'validation')\n",
        "plt.xticks(epochs)\n",
        "plt.xlabel('Broj epohe')\n",
        "plt.ylabel('precision')\n",
        "plt.legend(loc = 'best')\n",
        "\n",
        "plt.subplot(1, 5, 4)\n",
        "plt.plot(epochs, recall, label = 'train')\n",
        "plt.plot(epochs, val_recall, label = 'validation')\n",
        "plt.xticks(epochs)\n",
        "plt.xlabel('Broj epohe')\n",
        "plt.ylabel('recall')\n",
        "plt.legend(loc = 'best')\n",
        "\n",
        "plt.subplot(1, 5, 5)\n",
        "plt.plot(epochs, AUC, label = 'train')\n",
        "plt.plot(epochs, val_AUC, label = 'validation')\n",
        "plt.xticks(epochs)\n",
        "plt.xlabel('Broj epohe')\n",
        "plt.ylabel('AUC')\n",
        "plt.legend(loc = 'best')\n",
        "\n",
        "# prikazuje se grafik\n",
        "plt.show()"
      ]
    },
    {
      "cell_type": "markdown",
      "source": [
        "# <center>Evaluacija modela i analiza rezultata</center>"
      ],
      "metadata": {
        "id": "zBsqu_pSzIDB"
      }
    },
    {
      "cell_type": "markdown",
      "metadata": {
        "id": "9jdPKeqFZYge"
      },
      "source": [
        "Model se evaluira na test skupu pri čemu se ispisuju dobijene mere kvaliteta.\n"
      ]
    },
    {
      "cell_type": "code",
      "execution_count": null,
      "metadata": {
        "colab": {
          "base_uri": "https://localhost:8080/"
        },
        "id": "vF6rdg3TKxYt",
        "outputId": "d63c8ccc-c0fb-4f73-fa10-45c96f1cf269"
      },
      "outputs": [
        {
          "output_type": "stream",
          "name": "stdout",
          "text": [
            "2000/2000 [==============================] - 433s 216ms/step - loss: 0.0800 - accuracy: 0.9659 - precision: 0.5307 - recall: 0.8478 - AUC: 0.9789\n",
            "\n",
            "Evaluacija modela na test skupu:\n",
            "Loss : 0.08\n",
            "Accuracy : 0.966\n",
            "Precision : 0.531\n",
            "Recall : 0.848\n",
            "AUC : 0.979 \n"
          ]
        }
      ],
      "source": [
        "eval = model.evaluate(X_test, y_test)\n",
        "print('\\nEvaluacija modela na test skupu:\\nLoss : {}\\nAccuracy : {}\\nPrecision : {}\\nRecall : {}\\nAUC : {} '.format(np.round(eval[0], 3), np.round(eval[1], 3), np.round(eval[2], 3), np.round(eval[3], 3), np.round(eval[4], 3)))"
      ]
    },
    {
      "cell_type": "markdown",
      "metadata": {
        "id": "IM3hN9xMZh9R"
      },
      "source": [
        "Predviđaju se vrednosti klasa na test skupu kako bi moglo da se pristupi daljoj analizi kroz matrice konfuzije i klasifikacioni zveštaj"
      ]
    },
    {
      "cell_type": "code",
      "execution_count": null,
      "metadata": {
        "id": "JNoGUyEhENwc"
      },
      "outputs": [],
      "source": [
        "y_pred = model.predict(X_test)"
      ]
    },
    {
      "cell_type": "markdown",
      "metadata": {
        "id": "0MUreb-OclF-"
      },
      "source": [
        "Za svaku od klasa se kreira matrica konfuzije koje se potom radi preglednosti prikazuju toplotnim mapama"
      ]
    },
    {
      "cell_type": "code",
      "execution_count": null,
      "metadata": {
        "colab": {
          "base_uri": "https://localhost:8080/",
          "height": 641
        },
        "id": "G2HWkP-lCx92",
        "outputId": "6a509ae4-028c-4717-a8e4-ff711858c6cb"
      },
      "outputs": [
        {
          "output_type": "display_data",
          "data": {
            "text/plain": [
              "<Figure size 1440x720 with 6 Axes>"
            ],
            "image/png": "[encoded data removed]"
          },
          "metadata": {
            "needs_background": "light"
          }
        }
      ],
      "source": [
        "confusion_matrices = multilabel_confusion_matrix(y_test, np.round(y_pred))\n",
        "\n",
        "# iscrtava se grafik zadate veličine\n",
        "plt.figure(figsize = (20, 10))\n",
        "# brojač se inicijalizuje na nulu\n",
        "i = 0\n",
        "# petljom se prolazi kroz matrice konfuzije za svaku klasu\n",
        "for single_matrix in confusion_matrices:\n",
        "  # kreira se plot za svaku matricu konfuzije pojedinačno tako da su poređani u 2 reda i 3 kolone\n",
        "  ax = plt.subplot(2, 3, i + 1)\n",
        "            \n",
        "  # toplotnom mapom se iscrtavaju matrice konfuzije\n",
        "  seaborn.heatmap(single_matrix, annot = True , fmt = 'd', linewidths = 1, cmap = 'Paired', cbar = False)\n",
        "  # ispisuju se imena naslova, x i y ose\n",
        "  ax.set_title(class_labels[i])\n",
        "  ax.set_xlabel('Predicted label')\n",
        "  ax.set_ylabel('True label')\n",
        "  # uvećava se brojač\n",
        "  i = i + 1"
      ]
    },
    {
      "cell_type": "markdown",
      "metadata": {
        "id": "Txvkk6Qteszx"
      },
      "source": [
        "Na osnovu vrednosti iz matrica konfuzije, za svaku od klasa, moguće je izračunati standardne mere kvaliteta koje kvantifikuju prediktivne performanse modela."
      ]
    },
    {
      "cell_type": "code",
      "execution_count": null,
      "metadata": {
        "colab": {
          "base_uri": "https://localhost:8080/"
        },
        "id": "JfIKLqDcefbC",
        "outputId": "bf24d0f5-acc8-41fb-e76d-70e6c4161fa6"
      },
      "outputs": [
        {
          "output_type": "stream",
          "name": "stdout",
          "text": [
            "                precision    recall  f1-score   support\n",
            "\n",
            "         toxic       0.52      0.92      0.66      6090\n",
            "  severe_toxic       0.29      0.62      0.40       367\n",
            "       obscene       0.58      0.80      0.67      3691\n",
            "        threat       0.54      0.60      0.57       211\n",
            "        insult       0.53      0.85      0.66      3427\n",
            "indentity_hate       0.61      0.64      0.63       712\n",
            "\n",
            "     micro avg       0.53      0.85      0.65     14498\n",
            "     macro avg       0.51      0.74      0.60     14498\n",
            "  weighted avg       0.54      0.85      0.65     14498\n",
            "   samples avg       0.08      0.08      0.08     14498\n",
            "\n"
          ]
        }
      ],
      "source": [
        "print(classification_report(y_test, np.round(y_pred), zero_division = 0, target_names = class_labels))"
      ]
    },
    {
      "cell_type": "markdown",
      "source": [
        "Analizom dobijenih rezultata uviđa se da je greška modela mala ($0.08$), takođe tačnost predviđanja i mera AUC su izuzetno visoke ($0.966$ i $0.979$ redom) što govori da je veliki broj instanci korektno klasifikovan. Iako model deluje zadovoljavajuće potrebno je detaljnije analizirati način na koji model svrstava komentare u klase. Odziv od $0.848$ govori o tome koliki je udeo komentara koje je model korektno klasifikovao kao neprikladne među svim stvarno neprikladnim komentarima. Sa druge strane preciznost od $0.531$ govori o udelu komentara koje je model korektno klasifikovao kao neprikladne među svim onima koji su kao takvi označeni od strane modela. Iz prethodnog direktno sledi da model često pogrešno klasifikuje komentare korektnog sadržaja kao neprikladne odnosno postoji veći broj lažno pozitivnih instanci. U ovom slučaju model zadovoljavajuće prepoznaje komentare neprikladnog sadržaja ali zajedno sa njima u istu kategoriju svrstava i određen broj komentara korektnog sadržaja. Svakako ovakvo ponašanje modela je bolje nego slučaj u kome bi preciznost bila veća nego odziv. Tada bi postojala veća verovatnoća da model ne prepozna komentare sa neprikladnim sadržajem i oni, prilikom primene modela u praksi, ne bi bili eliminisani sa platforme *Wikipedia*. \n",
        "\n",
        "Nebalansiranost može predstavljati problem, ali kako su modeli zasnovani na BERT-u složene strukture oni mogu da se izuzetno dobro prilagode. Tako će model biti istreniran da se neprikladni komentari pojavljuju sa manjom frekvencijom, što će uticati pozitivno na njegove performanse prilikom primene na realnim podacima. Nasuprot tome, u veštački balansiranom skupu bi se tokšični komentari pojavljivali češće, što u praksi ne bi bio slučaj, te bi model bio pristrasan i greška bi se akumulirala."
      ],
      "metadata": {
        "id": "Ciqe40DSrDtk"
      }
    },
    {
      "cell_type": "markdown",
      "metadata": {
        "id": "mXkKMJnGZnyb"
      },
      "source": [
        "Model se čuva kako bi mogao da bude naknadno korišćen."
      ]
    },
    {
      "cell_type": "code",
      "execution_count": null,
      "metadata": {
        "id": "XYoZNa74SG4J"
      },
      "outputs": [],
      "source": [
        "model.save('models/distilbert_model.h5')"
      ]
    }
  ],
  "metadata": {
    "accelerator": "GPU",
    "colab": {
      "collapsed_sections": [],
      "name": "03 - Model.ipynb",
      "provenance": []
    },
    "gpuClass": "standard",
    "kernelspec": {
      "display_name": "Python 3 (ipykernel)",
      "language": "python",
      "name": "python3"
    },
    "language_info": {
      "codemirror_mode": {
        "name": "ipython",
        "version": 3
      },
      "file_extension": ".py",
      "mimetype": "text/x-python",
      "name": "python",
      "nbconvert_exporter": "python",
      "pygments_lexer": "ipython3",
      "version": "3.7.0"
    },
    "widgets": {
      "application/vnd.jupyter.widget-state+json": {
        "099cd49aa1dd4e7eafcbd6c1e39dc40e": {
          "model_module": "@jupyter-widgets/controls",
          "model_name": "HBoxModel",
          "model_module_version": "2.0.0",
          "state": {
            "_dom_classes": [],
            "_model_module": "@jupyter-widgets/controls",
            "_model_module_version": "2.0.0",
            "_model_name": "HBoxModel",
            "_view_count": null,
            "_view_module": "@jupyter-widgets/controls",
            "_view_module_version": "2.0.0",
            "_view_name": "HBoxView",
            "box_style": "",
            "children": [
              "IPY_MODEL_3e652c4be7e8471c99d4549fc167ea9d",
              "IPY_MODEL_7734355e209f4054b0d835bbb7b0debb",
              "IPY_MODEL_bda5035c4ca246e1a1b81055352e9d42"
            ],
            "layout": "IPY_MODEL_a57b5d1a284b439f88f8205636a6f963",
            "tabbable": null,
            "tooltip": null
          }
        },
        "3e652c4be7e8471c99d4549fc167ea9d": {
          "model_module": "@jupyter-widgets/controls",
          "model_name": "HTMLModel",
          "model_module_version": "2.0.0",
          "state": {
            "_dom_classes": [],
            "_model_module": "@jupyter-widgets/controls",
            "_model_module_version": "2.0.0",
            "_model_name": "HTMLModel",
            "_view_count": null,
            "_view_module": "@jupyter-widgets/controls",
            "_view_module_version": "2.0.0",
            "_view_name": "HTMLView",
            "description": "",
            "description_allow_html": false,
            "layout": "IPY_MODEL_10835466a75c467696eadd095f1ca0cb",
            "placeholder": "​",
            "style": "IPY_MODEL_d8405cc95d8a47ab99fc5897ac19c28c",
            "tabbable": null,
            "tooltip": null,
            "value": "Downloading tokenizer_config.json: 100%"
          }
        },
        "7734355e209f4054b0d835bbb7b0debb": {
          "model_module": "@jupyter-widgets/controls",
          "model_name": "FloatProgressModel",
          "model_module_version": "2.0.0",
          "state": {
            "_dom_classes": [],
            "_model_module": "@jupyter-widgets/controls",
            "_model_module_version": "2.0.0",
            "_model_name": "FloatProgressModel",
            "_view_count": null,
            "_view_module": "@jupyter-widgets/controls",
            "_view_module_version": "2.0.0",
            "_view_name": "ProgressView",
            "bar_style": "success",
            "description": "",
            "description_allow_html": false,
            "layout": "IPY_MODEL_a211a6a758294166aeca074d666aa870",
            "max": 28,
            "min": 0,
            "orientation": "horizontal",
            "style": "IPY_MODEL_1b3a8ceb2cd641b3b692b461b3ea5a6f",
            "tabbable": null,
            "tooltip": null,
            "value": 28
          }
        },
        "bda5035c4ca246e1a1b81055352e9d42": {
          "model_module": "@jupyter-widgets/controls",
          "model_name": "HTMLModel",
          "model_module_version": "2.0.0",
          "state": {
            "_dom_classes": [],
            "_model_module": "@jupyter-widgets/controls",
            "_model_module_version": "2.0.0",
            "_model_name": "HTMLModel",
            "_view_count": null,
            "_view_module": "@jupyter-widgets/controls",
            "_view_module_version": "2.0.0",
            "_view_name": "HTMLView",
            "description": "",
            "description_allow_html": false,
            "layout": "IPY_MODEL_132742fe6c384066af5b56a44adf1a72",
            "placeholder": "​",
            "style": "IPY_MODEL_aed04a785a444e99afd89be31759def7",
            "tabbable": null,
            "tooltip": null,
            "value": " 28.0/28.0 [00:00&lt;00:00, 834B/s]"
          }
        },
        "a57b5d1a284b439f88f8205636a6f963": {
          "model_module": "@jupyter-widgets/base",
          "model_name": "LayoutModel",
          "model_module_version": "2.0.0",
          "state": {
            "_model_module": "@jupyter-widgets/base",
            "_model_module_version": "2.0.0",
            "_model_name": "LayoutModel",
            "_view_count": null,
            "_view_module": "@jupyter-widgets/base",
            "_view_module_version": "2.0.0",
            "_view_name": "LayoutView",
            "align_content": null,
            "align_items": null,
            "align_self": null,
            "border_bottom": null,
            "border_left": null,
            "border_right": null,
            "border_top": null,
            "bottom": null,
            "display": null,
            "flex": null,
            "flex_flow": null,
            "grid_area": null,
            "grid_auto_columns": null,
            "grid_auto_flow": null,
            "grid_auto_rows": null,
            "grid_column": null,
            "grid_gap": null,
            "grid_row": null,
            "grid_template_areas": null,
            "grid_template_columns": null,
            "grid_template_rows": null,
            "height": null,
            "justify_content": null,
            "justify_items": null,
            "left": null,
            "margin": null,
            "max_height": null,
            "max_width": null,
            "min_height": null,
            "min_width": null,
            "object_fit": null,
            "object_position": null,
            "order": null,
            "overflow": null,
            "padding": null,
            "right": null,
            "top": null,
            "visibility": null,
            "width": null
          }
        },
        "10835466a75c467696eadd095f1ca0cb": {
          "model_module": "@jupyter-widgets/base",
          "model_name": "LayoutModel",
          "model_module_version": "2.0.0",
          "state": {
            "_model_module": "@jupyter-widgets/base",
            "_model_module_version": "2.0.0",
            "_model_name": "LayoutModel",
            "_view_count": null,
            "_view_module": "@jupyter-widgets/base",
            "_view_module_version": "2.0.0",
            "_view_name": "LayoutView",
            "align_content": null,
            "align_items": null,
            "align_self": null,
            "border_bottom": null,
            "border_left": null,
            "border_right": null,
            "border_top": null,
            "bottom": null,
            "display": null,
            "flex": null,
            "flex_flow": null,
            "grid_area": null,
            "grid_auto_columns": null,
            "grid_auto_flow": null,
            "grid_auto_rows": null,
            "grid_column": null,
            "grid_gap": null,
            "grid_row": null,
            "grid_template_areas": null,
            "grid_template_columns": null,
            "grid_template_rows": null,
            "height": null,
            "justify_content": null,
            "justify_items": null,
            "left": null,
            "margin": null,
            "max_height": null,
            "max_width": null,
            "min_height": null,
            "min_width": null,
            "object_fit": null,
            "object_position": null,
            "order": null,
            "overflow": null,
            "padding": null,
            "right": null,
            "top": null,
            "visibility": null,
            "width": null
          }
        },
        "d8405cc95d8a47ab99fc5897ac19c28c": {
          "model_module": "@jupyter-widgets/controls",
          "model_name": "HTMLStyleModel",
          "model_module_version": "2.0.0",
          "state": {
            "_model_module": "@jupyter-widgets/controls",
            "_model_module_version": "2.0.0",
            "_model_name": "HTMLStyleModel",
            "_view_count": null,
            "_view_module": "@jupyter-widgets/base",
            "_view_module_version": "2.0.0",
            "_view_name": "StyleView",
            "background": null,
            "description_width": "",
            "font_size": null,
            "text_color": null
          }
        },
        "a211a6a758294166aeca074d666aa870": {
          "model_module": "@jupyter-widgets/base",
          "model_name": "LayoutModel",
          "model_module_version": "2.0.0",
          "state": {
            "_model_module": "@jupyter-widgets/base",
            "_model_module_version": "2.0.0",
            "_model_name": "LayoutModel",
            "_view_count": null,
            "_view_module": "@jupyter-widgets/base",
            "_view_module_version": "2.0.0",
            "_view_name": "LayoutView",
            "align_content": null,
            "align_items": null,
            "align_self": null,
            "border_bottom": null,
            "border_left": null,
            "border_right": null,
            "border_top": null,
            "bottom": null,
            "display": null,
            "flex": null,
            "flex_flow": null,
            "grid_area": null,
            "grid_auto_columns": null,
            "grid_auto_flow": null,
            "grid_auto_rows": null,
            "grid_column": null,
            "grid_gap": null,
            "grid_row": null,
            "grid_template_areas": null,
            "grid_template_columns": null,
            "grid_template_rows": null,
            "height": null,
            "justify_content": null,
            "justify_items": null,
            "left": null,
            "margin": null,
            "max_height": null,
            "max_width": null,
            "min_height": null,
            "min_width": null,
            "object_fit": null,
            "object_position": null,
            "order": null,
            "overflow": null,
            "padding": null,
            "right": null,
            "top": null,
            "visibility": null,
            "width": null
          }
        },
        "1b3a8ceb2cd641b3b692b461b3ea5a6f": {
          "model_module": "@jupyter-widgets/controls",
          "model_name": "ProgressStyleModel",
          "model_module_version": "2.0.0",
          "state": {
            "_model_module": "@jupyter-widgets/controls",
            "_model_module_version": "2.0.0",
            "_model_name": "ProgressStyleModel",
            "_view_count": null,
            "_view_module": "@jupyter-widgets/base",
            "_view_module_version": "2.0.0",
            "_view_name": "StyleView",
            "bar_color": null,
            "description_width": ""
          }
        },
        "132742fe6c384066af5b56a44adf1a72": {
          "model_module": "@jupyter-widgets/base",
          "model_name": "LayoutModel",
          "model_module_version": "2.0.0",
          "state": {
            "_model_module": "@jupyter-widgets/base",
            "_model_module_version": "2.0.0",
            "_model_name": "LayoutModel",
            "_view_count": null,
            "_view_module": "@jupyter-widgets/base",
            "_view_module_version": "2.0.0",
            "_view_name": "LayoutView",
            "align_content": null,
            "align_items": null,
            "align_self": null,
            "border_bottom": null,
            "border_left": null,
            "border_right": null,
            "border_top": null,
            "bottom": null,
            "display": null,
            "flex": null,
            "flex_flow": null,
            "grid_area": null,
            "grid_auto_columns": null,
            "grid_auto_flow": null,
            "grid_auto_rows": null,
            "grid_column": null,
            "grid_gap": null,
            "grid_row": null,
            "grid_template_areas": null,
            "grid_template_columns": null,
            "grid_template_rows": null,
            "height": null,
            "justify_content": null,
            "justify_items": null,
            "left": null,
            "margin": null,
            "max_height": null,
            "max_width": null,
            "min_height": null,
            "min_width": null,
            "object_fit": null,
            "object_position": null,
            "order": null,
            "overflow": null,
            "padding": null,
            "right": null,
            "top": null,
            "visibility": null,
            "width": null
          }
        },
        "aed04a785a444e99afd89be31759def7": {
          "model_module": "@jupyter-widgets/controls",
          "model_name": "HTMLStyleModel",
          "model_module_version": "2.0.0",
          "state": {
            "_model_module": "@jupyter-widgets/controls",
            "_model_module_version": "2.0.0",
            "_model_name": "HTMLStyleModel",
            "_view_count": null,
            "_view_module": "@jupyter-widgets/base",
            "_view_module_version": "2.0.0",
            "_view_name": "StyleView",
            "background": null,
            "description_width": "",
            "font_size": null,
            "text_color": null
          }
        },
        "5cf2a5aa7429401b8d2bf142f6b50dbf": {
          "model_module": "@jupyter-widgets/controls",
          "model_name": "HBoxModel",
          "model_module_version": "2.0.0",
          "state": {
            "_dom_classes": [],
            "_model_module": "@jupyter-widgets/controls",
            "_model_module_version": "2.0.0",
            "_model_name": "HBoxModel",
            "_view_count": null,
            "_view_module": "@jupyter-widgets/controls",
            "_view_module_version": "2.0.0",
            "_view_name": "HBoxView",
            "box_style": "",
            "children": [
              "IPY_MODEL_4d0fd78917d44005ae1f1dec5680ffbe",
              "IPY_MODEL_f93968a54ae04f3fb8f825f2148c780f",
              "IPY_MODEL_accee74090014e46b04ca09d71101f1d"
            ],
            "layout": "IPY_MODEL_443b6b41e04f45f8ba4d7dc2b5ece5a8",
            "tabbable": null,
            "tooltip": null
          }
        },
        "4d0fd78917d44005ae1f1dec5680ffbe": {
          "model_module": "@jupyter-widgets/controls",
          "model_name": "HTMLModel",
          "model_module_version": "2.0.0",
          "state": {
            "_dom_classes": [],
            "_model_module": "@jupyter-widgets/controls",
            "_model_module_version": "2.0.0",
            "_model_name": "HTMLModel",
            "_view_count": null,
            "_view_module": "@jupyter-widgets/controls",
            "_view_module_version": "2.0.0",
            "_view_name": "HTMLView",
            "description": "",
            "description_allow_html": false,
            "layout": "IPY_MODEL_aa482217008743cb93cf8583a0fa385f",
            "placeholder": "​",
            "style": "IPY_MODEL_33b337eed90a4e849c0479eaa90b37fb",
            "tabbable": null,
            "tooltip": null,
            "value": "Downloading vocab.txt: 100%"
          }
        },
        "f93968a54ae04f3fb8f825f2148c780f": {
          "model_module": "@jupyter-widgets/controls",
          "model_name": "FloatProgressModel",
          "model_module_version": "2.0.0",
          "state": {
            "_dom_classes": [],
            "_model_module": "@jupyter-widgets/controls",
            "_model_module_version": "2.0.0",
            "_model_name": "FloatProgressModel",
            "_view_count": null,
            "_view_module": "@jupyter-widgets/controls",
            "_view_module_version": "2.0.0",
            "_view_name": "ProgressView",
            "bar_style": "success",
            "description": "",
            "description_allow_html": false,
            "layout": "IPY_MODEL_127e4c44c2ea469b8ee1ed2359c65076",
            "max": 231508,
            "min": 0,
            "orientation": "horizontal",
            "style": "IPY_MODEL_55ec41424f284ec0944f5ffb0b480c42",
            "tabbable": null,
            "tooltip": null,
            "value": 231508
          }
        },
        "accee74090014e46b04ca09d71101f1d": {
          "model_module": "@jupyter-widgets/controls",
          "model_name": "HTMLModel",
          "model_module_version": "2.0.0",
          "state": {
            "_dom_classes": [],
            "_model_module": "@jupyter-widgets/controls",
            "_model_module_version": "2.0.0",
            "_model_name": "HTMLModel",
            "_view_count": null,
            "_view_module": "@jupyter-widgets/controls",
            "_view_module_version": "2.0.0",
            "_view_name": "HTMLView",
            "description": "",
            "description_allow_html": false,
            "layout": "IPY_MODEL_dc0d876f39154bec91e3f802ca6b93da",
            "placeholder": "​",
            "style": "IPY_MODEL_5907af236f554f21a84e66405b4dd69c",
            "tabbable": null,
            "tooltip": null,
            "value": " 226k/226k [00:00&lt;00:00, 2.35MB/s]"
          }
        },
        "443b6b41e04f45f8ba4d7dc2b5ece5a8": {
          "model_module": "@jupyter-widgets/base",
          "model_name": "LayoutModel",
          "model_module_version": "2.0.0",
          "state": {
            "_model_module": "@jupyter-widgets/base",
            "_model_module_version": "2.0.0",
            "_model_name": "LayoutModel",
            "_view_count": null,
            "_view_module": "@jupyter-widgets/base",
            "_view_module_version": "2.0.0",
            "_view_name": "LayoutView",
            "align_content": null,
            "align_items": null,
            "align_self": null,
            "border_bottom": null,
            "border_left": null,
            "border_right": null,
            "border_top": null,
            "bottom": null,
            "display": null,
            "flex": null,
            "flex_flow": null,
            "grid_area": null,
            "grid_auto_columns": null,
            "grid_auto_flow": null,
            "grid_auto_rows": null,
            "grid_column": null,
            "grid_gap": null,
            "grid_row": null,
            "grid_template_areas": null,
            "grid_template_columns": null,
            "grid_template_rows": null,
            "height": null,
            "justify_content": null,
            "justify_items": null,
            "left": null,
            "margin": null,
            "max_height": null,
            "max_width": null,
            "min_height": null,
            "min_width": null,
            "object_fit": null,
            "object_position": null,
            "order": null,
            "overflow": null,
            "padding": null,
            "right": null,
            "top": null,
            "visibility": null,
            "width": null
          }
        },
        "aa482217008743cb93cf8583a0fa385f": {
          "model_module": "@jupyter-widgets/base",
          "model_name": "LayoutModel",
          "model_module_version": "2.0.0",
          "state": {
            "_model_module": "@jupyter-widgets/base",
            "_model_module_version": "2.0.0",
            "_model_name": "LayoutModel",
            "_view_count": null,
            "_view_module": "@jupyter-widgets/base",
            "_view_module_version": "2.0.0",
            "_view_name": "LayoutView",
            "align_content": null,
            "align_items": null,
            "align_self": null,
            "border_bottom": null,
            "border_left": null,
            "border_right": null,
            "border_top": null,
            "bottom": null,
            "display": null,
            "flex": null,
            "flex_flow": null,
            "grid_area": null,
            "grid_auto_columns": null,
            "grid_auto_flow": null,
            "grid_auto_rows": null,
            "grid_column": null,
            "grid_gap": null,
            "grid_row": null,
            "grid_template_areas": null,
            "grid_template_columns": null,
            "grid_template_rows": null,
            "height": null,
            "justify_content": null,
            "justify_items": null,
            "left": null,
            "margin": null,
            "max_height": null,
            "max_width": null,
            "min_height": null,
            "min_width": null,
            "object_fit": null,
            "object_position": null,
            "order": null,
            "overflow": null,
            "padding": null,
            "right": null,
            "top": null,
            "visibility": null,
            "width": null
          }
        },
        "33b337eed90a4e849c0479eaa90b37fb": {
          "model_module": "@jupyter-widgets/controls",
          "model_name": "HTMLStyleModel",
          "model_module_version": "2.0.0",
          "state": {
            "_model_module": "@jupyter-widgets/controls",
            "_model_module_version": "2.0.0",
            "_model_name": "HTMLStyleModel",
            "_view_count": null,
            "_view_module": "@jupyter-widgets/base",
            "_view_module_version": "2.0.0",
            "_view_name": "StyleView",
            "background": null,
            "description_width": "",
            "font_size": null,
            "text_color": null
          }
        },
        "127e4c44c2ea469b8ee1ed2359c65076": {
          "model_module": "@jupyter-widgets/base",
          "model_name": "LayoutModel",
          "model_module_version": "2.0.0",
          "state": {
            "_model_module": "@jupyter-widgets/base",
            "_model_module_version": "2.0.0",
            "_model_name": "LayoutModel",
            "_view_count": null,
            "_view_module": "@jupyter-widgets/base",
            "_view_module_version": "2.0.0",
            "_view_name": "LayoutView",
            "align_content": null,
            "align_items": null,
            "align_self": null,
            "border_bottom": null,
            "border_left": null,
            "border_right": null,
            "border_top": null,
            "bottom": null,
            "display": null,
            "flex": null,
            "flex_flow": null,
            "grid_area": null,
            "grid_auto_columns": null,
            "grid_auto_flow": null,
            "grid_auto_rows": null,
            "grid_column": null,
            "grid_gap": null,
            "grid_row": null,
            "grid_template_areas": null,
            "grid_template_columns": null,
            "grid_template_rows": null,
            "height": null,
            "justify_content": null,
            "justify_items": null,
            "left": null,
            "margin": null,
            "max_height": null,
            "max_width": null,
            "min_height": null,
            "min_width": null,
            "object_fit": null,
            "object_position": null,
            "order": null,
            "overflow": null,
            "padding": null,
            "right": null,
            "top": null,
            "visibility": null,
            "width": null
          }
        },
        "55ec41424f284ec0944f5ffb0b480c42": {
          "model_module": "@jupyter-widgets/controls",
          "model_name": "ProgressStyleModel",
          "model_module_version": "2.0.0",
          "state": {
            "_model_module": "@jupyter-widgets/controls",
            "_model_module_version": "2.0.0",
            "_model_name": "ProgressStyleModel",
            "_view_count": null,
            "_view_module": "@jupyter-widgets/base",
            "_view_module_version": "2.0.0",
            "_view_name": "StyleView",
            "bar_color": null,
            "description_width": ""
          }
        },
        "dc0d876f39154bec91e3f802ca6b93da": {
          "model_module": "@jupyter-widgets/base",
          "model_name": "LayoutModel",
          "model_module_version": "2.0.0",
          "state": {
            "_model_module": "@jupyter-widgets/base",
            "_model_module_version": "2.0.0",
            "_model_name": "LayoutModel",
            "_view_count": null,
            "_view_module": "@jupyter-widgets/base",
            "_view_module_version": "2.0.0",
            "_view_name": "LayoutView",
            "align_content": null,
            "align_items": null,
            "align_self": null,
            "border_bottom": null,
            "border_left": null,
            "border_right": null,
            "border_top": null,
            "bottom": null,
            "display": null,
            "flex": null,
            "flex_flow": null,
            "grid_area": null,
            "grid_auto_columns": null,
            "grid_auto_flow": null,
            "grid_auto_rows": null,
            "grid_column": null,
            "grid_gap": null,
            "grid_row": null,
            "grid_template_areas": null,
            "grid_template_columns": null,
            "grid_template_rows": null,
            "height": null,
            "justify_content": null,
            "justify_items": null,
            "left": null,
            "margin": null,
            "max_height": null,
            "max_width": null,
            "min_height": null,
            "min_width": null,
            "object_fit": null,
            "object_position": null,
            "order": null,
            "overflow": null,
            "padding": null,
            "right": null,
            "top": null,
            "visibility": null,
            "width": null
          }
        },
        "5907af236f554f21a84e66405b4dd69c": {
          "model_module": "@jupyter-widgets/controls",
          "model_name": "HTMLStyleModel",
          "model_module_version": "2.0.0",
          "state": {
            "_model_module": "@jupyter-widgets/controls",
            "_model_module_version": "2.0.0",
            "_model_name": "HTMLStyleModel",
            "_view_count": null,
            "_view_module": "@jupyter-widgets/base",
            "_view_module_version": "2.0.0",
            "_view_name": "StyleView",
            "background": null,
            "description_width": "",
            "font_size": null,
            "text_color": null
          }
        },
        "c839438ee83f4ee392e69d046b25f0c8": {
          "model_module": "@jupyter-widgets/controls",
          "model_name": "HBoxModel",
          "model_module_version": "2.0.0",
          "state": {
            "_dom_classes": [],
            "_model_module": "@jupyter-widgets/controls",
            "_model_module_version": "2.0.0",
            "_model_name": "HBoxModel",
            "_view_count": null,
            "_view_module": "@jupyter-widgets/controls",
            "_view_module_version": "2.0.0",
            "_view_name": "HBoxView",
            "box_style": "",
            "children": [
              "IPY_MODEL_e6331a0116d04df4ba796b20f13d9c60",
              "IPY_MODEL_20a03b3249124109ad051a95a1181878",
              "IPY_MODEL_c7c86125710c4426af9efc4fcd8af3fb"
            ],
            "layout": "IPY_MODEL_be0723dcd6654db9a2fa04fcc91206df",
            "tabbable": null,
            "tooltip": null
          }
        },
        "e6331a0116d04df4ba796b20f13d9c60": {
          "model_module": "@jupyter-widgets/controls",
          "model_name": "HTMLModel",
          "model_module_version": "2.0.0",
          "state": {
            "_dom_classes": [],
            "_model_module": "@jupyter-widgets/controls",
            "_model_module_version": "2.0.0",
            "_model_name": "HTMLModel",
            "_view_count": null,
            "_view_module": "@jupyter-widgets/controls",
            "_view_module_version": "2.0.0",
            "_view_name": "HTMLView",
            "description": "",
            "description_allow_html": false,
            "layout": "IPY_MODEL_dc9b723a846a425981c6468554657875",
            "placeholder": "​",
            "style": "IPY_MODEL_fc8624349bf7437caaaf7ff46d24c418",
            "tabbable": null,
            "tooltip": null,
            "value": "Downloading tokenizer.json: 100%"
          }
        },
        "20a03b3249124109ad051a95a1181878": {
          "model_module": "@jupyter-widgets/controls",
          "model_name": "FloatProgressModel",
          "model_module_version": "2.0.0",
          "state": {
            "_dom_classes": [],
            "_model_module": "@jupyter-widgets/controls",
            "_model_module_version": "2.0.0",
            "_model_name": "FloatProgressModel",
            "_view_count": null,
            "_view_module": "@jupyter-widgets/controls",
            "_view_module_version": "2.0.0",
            "_view_name": "ProgressView",
            "bar_style": "success",
            "description": "",
            "description_allow_html": false,
            "layout": "IPY_MODEL_4fa9cea0f3f04142a05315f5c3009af4",
            "max": 466062,
            "min": 0,
            "orientation": "horizontal",
            "style": "IPY_MODEL_8b4d5a0fd2cc4fb2addb7ebf262c4bcd",
            "tabbable": null,
            "tooltip": null,
            "value": 466062
          }
        },
        "c7c86125710c4426af9efc4fcd8af3fb": {
          "model_module": "@jupyter-widgets/controls",
          "model_name": "HTMLModel",
          "model_module_version": "2.0.0",
          "state": {
            "_dom_classes": [],
            "_model_module": "@jupyter-widgets/controls",
            "_model_module_version": "2.0.0",
            "_model_name": "HTMLModel",
            "_view_count": null,
            "_view_module": "@jupyter-widgets/controls",
            "_view_module_version": "2.0.0",
            "_view_name": "HTMLView",
            "description": "",
            "description_allow_html": false,
            "layout": "IPY_MODEL_70fa9f4c8cf4460aa51017bbb7a32679",
            "placeholder": "​",
            "style": "IPY_MODEL_92eeed82675a4d649f0c45079fc3b0d9",
            "tabbable": null,
            "tooltip": null,
            "value": " 455k/455k [00:00&lt;00:00, 1.31MB/s]"
          }
        },
        "be0723dcd6654db9a2fa04fcc91206df": {
          "model_module": "@jupyter-widgets/base",
          "model_name": "LayoutModel",
          "model_module_version": "2.0.0",
          "state": {
            "_model_module": "@jupyter-widgets/base",
            "_model_module_version": "2.0.0",
            "_model_name": "LayoutModel",
            "_view_count": null,
            "_view_module": "@jupyter-widgets/base",
            "_view_module_version": "2.0.0",
            "_view_name": "LayoutView",
            "align_content": null,
            "align_items": null,
            "align_self": null,
            "border_bottom": null,
            "border_left": null,
            "border_right": null,
            "border_top": null,
            "bottom": null,
            "display": null,
            "flex": null,
            "flex_flow": null,
            "grid_area": null,
            "grid_auto_columns": null,
            "grid_auto_flow": null,
            "grid_auto_rows": null,
            "grid_column": null,
            "grid_gap": null,
            "grid_row": null,
            "grid_template_areas": null,
            "grid_template_columns": null,
            "grid_template_rows": null,
            "height": null,
            "justify_content": null,
            "justify_items": null,
            "left": null,
            "margin": null,
            "max_height": null,
            "max_width": null,
            "min_height": null,
            "min_width": null,
            "object_fit": null,
            "object_position": null,
            "order": null,
            "overflow": null,
            "padding": null,
            "right": null,
            "top": null,
            "visibility": null,
            "width": null
          }
        },
        "dc9b723a846a425981c6468554657875": {
          "model_module": "@jupyter-widgets/base",
          "model_name": "LayoutModel",
          "model_module_version": "2.0.0",
          "state": {
            "_model_module": "@jupyter-widgets/base",
            "_model_module_version": "2.0.0",
            "_model_name": "LayoutModel",
            "_view_count": null,
            "_view_module": "@jupyter-widgets/base",
            "_view_module_version": "2.0.0",
            "_view_name": "LayoutView",
            "align_content": null,
            "align_items": null,
            "align_self": null,
            "border_bottom": null,
            "border_left": null,
            "border_right": null,
            "border_top": null,
            "bottom": null,
            "display": null,
            "flex": null,
            "flex_flow": null,
            "grid_area": null,
            "grid_auto_columns": null,
            "grid_auto_flow": null,
            "grid_auto_rows": null,
            "grid_column": null,
            "grid_gap": null,
            "grid_row": null,
            "grid_template_areas": null,
            "grid_template_columns": null,
            "grid_template_rows": null,
            "height": null,
            "justify_content": null,
            "justify_items": null,
            "left": null,
            "margin": null,
            "max_height": null,
            "max_width": null,
            "min_height": null,
            "min_width": null,
            "object_fit": null,
            "object_position": null,
            "order": null,
            "overflow": null,
            "padding": null,
            "right": null,
            "top": null,
            "visibility": null,
            "width": null
          }
        },
        "fc8624349bf7437caaaf7ff46d24c418": {
          "model_module": "@jupyter-widgets/controls",
          "model_name": "HTMLStyleModel",
          "model_module_version": "2.0.0",
          "state": {
            "_model_module": "@jupyter-widgets/controls",
            "_model_module_version": "2.0.0",
            "_model_name": "HTMLStyleModel",
            "_view_count": null,
            "_view_module": "@jupyter-widgets/base",
            "_view_module_version": "2.0.0",
            "_view_name": "StyleView",
            "background": null,
            "description_width": "",
            "font_size": null,
            "text_color": null
          }
        },
        "4fa9cea0f3f04142a05315f5c3009af4": {
          "model_module": "@jupyter-widgets/base",
          "model_name": "LayoutModel",
          "model_module_version": "2.0.0",
          "state": {
            "_model_module": "@jupyter-widgets/base",
            "_model_module_version": "2.0.0",
            "_model_name": "LayoutModel",
            "_view_count": null,
            "_view_module": "@jupyter-widgets/base",
            "_view_module_version": "2.0.0",
            "_view_name": "LayoutView",
            "align_content": null,
            "align_items": null,
            "align_self": null,
            "border_bottom": null,
            "border_left": null,
            "border_right": null,
            "border_top": null,
            "bottom": null,
            "display": null,
            "flex": null,
            "flex_flow": null,
            "grid_area": null,
            "grid_auto_columns": null,
            "grid_auto_flow": null,
            "grid_auto_rows": null,
            "grid_column": null,
            "grid_gap": null,
            "grid_row": null,
            "grid_template_areas": null,
            "grid_template_columns": null,
            "grid_template_rows": null,
            "height": null,
            "justify_content": null,
            "justify_items": null,
            "left": null,
            "margin": null,
            "max_height": null,
            "max_width": null,
            "min_height": null,
            "min_width": null,
            "object_fit": null,
            "object_position": null,
            "order": null,
            "overflow": null,
            "padding": null,
            "right": null,
            "top": null,
            "visibility": null,
            "width": null
          }
        },
        "8b4d5a0fd2cc4fb2addb7ebf262c4bcd": {
          "model_module": "@jupyter-widgets/controls",
          "model_name": "ProgressStyleModel",
          "model_module_version": "2.0.0",
          "state": {
            "_model_module": "@jupyter-widgets/controls",
            "_model_module_version": "2.0.0",
            "_model_name": "ProgressStyleModel",
            "_view_count": null,
            "_view_module": "@jupyter-widgets/base",
            "_view_module_version": "2.0.0",
            "_view_name": "StyleView",
            "bar_color": null,
            "description_width": ""
          }
        },
        "70fa9f4c8cf4460aa51017bbb7a32679": {
          "model_module": "@jupyter-widgets/base",
          "model_name": "LayoutModel",
          "model_module_version": "2.0.0",
          "state": {
            "_model_module": "@jupyter-widgets/base",
            "_model_module_version": "2.0.0",
            "_model_name": "LayoutModel",
            "_view_count": null,
            "_view_module": "@jupyter-widgets/base",
            "_view_module_version": "2.0.0",
            "_view_name": "LayoutView",
            "align_content": null,
            "align_items": null,
            "align_self": null,
            "border_bottom": null,
            "border_left": null,
            "border_right": null,
            "border_top": null,
            "bottom": null,
            "display": null,
            "flex": null,
            "flex_flow": null,
            "grid_area": null,
            "grid_auto_columns": null,
            "grid_auto_flow": null,
            "grid_auto_rows": null,
            "grid_column": null,
            "grid_gap": null,
            "grid_row": null,
            "grid_template_areas": null,
            "grid_template_columns": null,
            "grid_template_rows": null,
            "height": null,
            "justify_content": null,
            "justify_items": null,
            "left": null,
            "margin": null,
            "max_height": null,
            "max_width": null,
            "min_height": null,
            "min_width": null,
            "object_fit": null,
            "object_position": null,
            "order": null,
            "overflow": null,
            "padding": null,
            "right": null,
            "top": null,
            "visibility": null,
            "width": null
          }
        },
        "92eeed82675a4d649f0c45079fc3b0d9": {
          "model_module": "@jupyter-widgets/controls",
          "model_name": "HTMLStyleModel",
          "model_module_version": "2.0.0",
          "state": {
            "_model_module": "@jupyter-widgets/controls",
            "_model_module_version": "2.0.0",
            "_model_name": "HTMLStyleModel",
            "_view_count": null,
            "_view_module": "@jupyter-widgets/base",
            "_view_module_version": "2.0.0",
            "_view_name": "StyleView",
            "background": null,
            "description_width": "",
            "font_size": null,
            "text_color": null
          }
        },
        "4c54f0b1420341749720057f5c06dd0b": {
          "model_module": "@jupyter-widgets/controls",
          "model_name": "HBoxModel",
          "model_module_version": "2.0.0",
          "state": {
            "_dom_classes": [],
            "_model_module": "@jupyter-widgets/controls",
            "_model_module_version": "2.0.0",
            "_model_name": "HBoxModel",
            "_view_count": null,
            "_view_module": "@jupyter-widgets/controls",
            "_view_module_version": "2.0.0",
            "_view_name": "HBoxView",
            "box_style": "",
            "children": [
              "IPY_MODEL_6cc553db26cf4e739c88ca0d2ee4cf20",
              "IPY_MODEL_f8b56eb671ac4639b8314b99d9646f9c",
              "IPY_MODEL_3f2dd0608ae04dcc88c6f4e622c1f0c3"
            ],
            "layout": "IPY_MODEL_834625bdcea04f89b3dd6488db693f47",
            "tabbable": null,
            "tooltip": null
          }
        },
        "6cc553db26cf4e739c88ca0d2ee4cf20": {
          "model_module": "@jupyter-widgets/controls",
          "model_name": "HTMLModel",
          "model_module_version": "2.0.0",
          "state": {
            "_dom_classes": [],
            "_model_module": "@jupyter-widgets/controls",
            "_model_module_version": "2.0.0",
            "_model_name": "HTMLModel",
            "_view_count": null,
            "_view_module": "@jupyter-widgets/controls",
            "_view_module_version": "2.0.0",
            "_view_name": "HTMLView",
            "description": "",
            "description_allow_html": false,
            "layout": "IPY_MODEL_45c20da6b39a4a85895ffc9f3a85ae58",
            "placeholder": "​",
            "style": "IPY_MODEL_6789fe270bcd41eca5ffb32eed155592",
            "tabbable": null,
            "tooltip": null,
            "value": "Downloading config.json: 100%"
          }
        },
        "f8b56eb671ac4639b8314b99d9646f9c": {
          "model_module": "@jupyter-widgets/controls",
          "model_name": "FloatProgressModel",
          "model_module_version": "2.0.0",
          "state": {
            "_dom_classes": [],
            "_model_module": "@jupyter-widgets/controls",
            "_model_module_version": "2.0.0",
            "_model_name": "FloatProgressModel",
            "_view_count": null,
            "_view_module": "@jupyter-widgets/controls",
            "_view_module_version": "2.0.0",
            "_view_name": "ProgressView",
            "bar_style": "success",
            "description": "",
            "description_allow_html": false,
            "layout": "IPY_MODEL_561bf7f59c6e447382844829cab6b5d7",
            "max": 483,
            "min": 0,
            "orientation": "horizontal",
            "style": "IPY_MODEL_9125233e3eee40869487096b59aa23af",
            "tabbable": null,
            "tooltip": null,
            "value": 483
          }
        },
        "3f2dd0608ae04dcc88c6f4e622c1f0c3": {
          "model_module": "@jupyter-widgets/controls",
          "model_name": "HTMLModel",
          "model_module_version": "2.0.0",
          "state": {
            "_dom_classes": [],
            "_model_module": "@jupyter-widgets/controls",
            "_model_module_version": "2.0.0",
            "_model_name": "HTMLModel",
            "_view_count": null,
            "_view_module": "@jupyter-widgets/controls",
            "_view_module_version": "2.0.0",
            "_view_name": "HTMLView",
            "description": "",
            "description_allow_html": false,
            "layout": "IPY_MODEL_e82a72b7481d461f9b6d49197e0f5030",
            "placeholder": "​",
            "style": "IPY_MODEL_0be66de1f30e4a2ca8ab0db7c3a4a7be",
            "tabbable": null,
            "tooltip": null,
            "value": " 483/483 [00:00&lt;00:00, 16.3kB/s]"
          }
        },
        "834625bdcea04f89b3dd6488db693f47": {
          "model_module": "@jupyter-widgets/base",
          "model_name": "LayoutModel",
          "model_module_version": "2.0.0",
          "state": {
            "_model_module": "@jupyter-widgets/base",
            "_model_module_version": "2.0.0",
            "_model_name": "LayoutModel",
            "_view_count": null,
            "_view_module": "@jupyter-widgets/base",
            "_view_module_version": "2.0.0",
            "_view_name": "LayoutView",
            "align_content": null,
            "align_items": null,
            "align_self": null,
            "border_bottom": null,
            "border_left": null,
            "border_right": null,
            "border_top": null,
            "bottom": null,
            "display": null,
            "flex": null,
            "flex_flow": null,
            "grid_area": null,
            "grid_auto_columns": null,
            "grid_auto_flow": null,
            "grid_auto_rows": null,
            "grid_column": null,
            "grid_gap": null,
            "grid_row": null,
            "grid_template_areas": null,
            "grid_template_columns": null,
            "grid_template_rows": null,
            "height": null,
            "justify_content": null,
            "justify_items": null,
            "left": null,
            "margin": null,
            "max_height": null,
            "max_width": null,
            "min_height": null,
            "min_width": null,
            "object_fit": null,
            "object_position": null,
            "order": null,
            "overflow": null,
            "padding": null,
            "right": null,
            "top": null,
            "visibility": null,
            "width": null
          }
        },
        "45c20da6b39a4a85895ffc9f3a85ae58": {
          "model_module": "@jupyter-widgets/base",
          "model_name": "LayoutModel",
          "model_module_version": "2.0.0",
          "state": {
            "_model_module": "@jupyter-widgets/base",
            "_model_module_version": "2.0.0",
            "_model_name": "LayoutModel",
            "_view_count": null,
            "_view_module": "@jupyter-widgets/base",
            "_view_module_version": "2.0.0",
            "_view_name": "LayoutView",
            "align_content": null,
            "align_items": null,
            "align_self": null,
            "border_bottom": null,
            "border_left": null,
            "border_right": null,
            "border_top": null,
            "bottom": null,
            "display": null,
            "flex": null,
            "flex_flow": null,
            "grid_area": null,
            "grid_auto_columns": null,
            "grid_auto_flow": null,
            "grid_auto_rows": null,
            "grid_column": null,
            "grid_gap": null,
            "grid_row": null,
            "grid_template_areas": null,
            "grid_template_columns": null,
            "grid_template_rows": null,
            "height": null,
            "justify_content": null,
            "justify_items": null,
            "left": null,
            "margin": null,
            "max_height": null,
            "max_width": null,
            "min_height": null,
            "min_width": null,
            "object_fit": null,
            "object_position": null,
            "order": null,
            "overflow": null,
            "padding": null,
            "right": null,
            "top": null,
            "visibility": null,
            "width": null
          }
        },
        "6789fe270bcd41eca5ffb32eed155592": {
          "model_module": "@jupyter-widgets/controls",
          "model_name": "HTMLStyleModel",
          "model_module_version": "2.0.0",
          "state": {
            "_model_module": "@jupyter-widgets/controls",
            "_model_module_version": "2.0.0",
            "_model_name": "HTMLStyleModel",
            "_view_count": null,
            "_view_module": "@jupyter-widgets/base",
            "_view_module_version": "2.0.0",
            "_view_name": "StyleView",
            "background": null,
            "description_width": "",
            "font_size": null,
            "text_color": null
          }
        },
        "561bf7f59c6e447382844829cab6b5d7": {
          "model_module": "@jupyter-widgets/base",
          "model_name": "LayoutModel",
          "model_module_version": "2.0.0",
          "state": {
            "_model_module": "@jupyter-widgets/base",
            "_model_module_version": "2.0.0",
            "_model_name": "LayoutModel",
            "_view_count": null,
            "_view_module": "@jupyter-widgets/base",
            "_view_module_version": "2.0.0",
            "_view_name": "LayoutView",
            "align_content": null,
            "align_items": null,
            "align_self": null,
            "border_bottom": null,
            "border_left": null,
            "border_right": null,
            "border_top": null,
            "bottom": null,
            "display": null,
            "flex": null,
            "flex_flow": null,
            "grid_area": null,
            "grid_auto_columns": null,
            "grid_auto_flow": null,
            "grid_auto_rows": null,
            "grid_column": null,
            "grid_gap": null,
            "grid_row": null,
            "grid_template_areas": null,
            "grid_template_columns": null,
            "grid_template_rows": null,
            "height": null,
            "justify_content": null,
            "justify_items": null,
            "left": null,
            "margin": null,
            "max_height": null,
            "max_width": null,
            "min_height": null,
            "min_width": null,
            "object_fit": null,
            "object_position": null,
            "order": null,
            "overflow": null,
            "padding": null,
            "right": null,
            "top": null,
            "visibility": null,
            "width": null
          }
        },
        "9125233e3eee40869487096b59aa23af": {
          "model_module": "@jupyter-widgets/controls",
          "model_name": "ProgressStyleModel",
          "model_module_version": "2.0.0",
          "state": {
            "_model_module": "@jupyter-widgets/controls",
            "_model_module_version": "2.0.0",
            "_model_name": "ProgressStyleModel",
            "_view_count": null,
            "_view_module": "@jupyter-widgets/base",
            "_view_module_version": "2.0.0",
            "_view_name": "StyleView",
            "bar_color": null,
            "description_width": ""
          }
        },
        "e82a72b7481d461f9b6d49197e0f5030": {
          "model_module": "@jupyter-widgets/base",
          "model_name": "LayoutModel",
          "model_module_version": "2.0.0",
          "state": {
            "_model_module": "@jupyter-widgets/base",
            "_model_module_version": "2.0.0",
            "_model_name": "LayoutModel",
            "_view_count": null,
            "_view_module": "@jupyter-widgets/base",
            "_view_module_version": "2.0.0",
            "_view_name": "LayoutView",
            "align_content": null,
            "align_items": null,
            "align_self": null,
            "border_bottom": null,
            "border_left": null,
            "border_right": null,
            "border_top": null,
            "bottom": null,
            "display": null,
            "flex": null,
            "flex_flow": null,
            "grid_area": null,
            "grid_auto_columns": null,
            "grid_auto_flow": null,
            "grid_auto_rows": null,
            "grid_column": null,
            "grid_gap": null,
            "grid_row": null,
            "grid_template_areas": null,
            "grid_template_columns": null,
            "grid_template_rows": null,
            "height": null,
            "justify_content": null,
            "justify_items": null,
            "left": null,
            "margin": null,
            "max_height": null,
            "max_width": null,
            "min_height": null,
            "min_width": null,
            "object_fit": null,
            "object_position": null,
            "order": null,
            "overflow": null,
            "padding": null,
            "right": null,
            "top": null,
            "visibility": null,
            "width": null
          }
        },
        "0be66de1f30e4a2ca8ab0db7c3a4a7be": {
          "model_module": "@jupyter-widgets/controls",
          "model_name": "HTMLStyleModel",
          "model_module_version": "2.0.0",
          "state": {
            "_model_module": "@jupyter-widgets/controls",
            "_model_module_version": "2.0.0",
            "_model_name": "HTMLStyleModel",
            "_view_count": null,
            "_view_module": "@jupyter-widgets/base",
            "_view_module_version": "2.0.0",
            "_view_name": "StyleView",
            "background": null,
            "description_width": "",
            "font_size": null,
            "text_color": null
          }
        },
        "9aacf1c258364cab89487d54053d62f3": {
          "model_module": "@jupyter-widgets/controls",
          "model_name": "HBoxModel",
          "model_module_version": "2.0.0",
          "state": {
            "_dom_classes": [],
            "_model_module": "@jupyter-widgets/controls",
            "_model_module_version": "2.0.0",
            "_model_name": "HBoxModel",
            "_view_count": null,
            "_view_module": "@jupyter-widgets/controls",
            "_view_module_version": "2.0.0",
            "_view_name": "HBoxView",
            "box_style": "",
            "children": [
              "IPY_MODEL_23a878f322034491b66b73090afaafc0",
              "IPY_MODEL_8ef3e5d543d34dba821874a8a74cb953",
              "IPY_MODEL_826477d69daa42f79a2019aea80422ad"
            ],
            "layout": "IPY_MODEL_2e56c0d451cd4966ac9e40de83a92065",
            "tabbable": null,
            "tooltip": null
          }
        },
        "23a878f322034491b66b73090afaafc0": {
          "model_module": "@jupyter-widgets/controls",
          "model_name": "HTMLModel",
          "model_module_version": "2.0.0",
          "state": {
            "_dom_classes": [],
            "_model_module": "@jupyter-widgets/controls",
            "_model_module_version": "2.0.0",
            "_model_name": "HTMLModel",
            "_view_count": null,
            "_view_module": "@jupyter-widgets/controls",
            "_view_module_version": "2.0.0",
            "_view_name": "HTMLView",
            "description": "",
            "description_allow_html": false,
            "layout": "IPY_MODEL_2e762a8595d944f6bed1214f97ccae29",
            "placeholder": "​",
            "style": "IPY_MODEL_be77471c30a74bb0abb1bcda2f7c516c",
            "tabbable": null,
            "tooltip": null,
            "value": "Downloading tf_model.h5: 100%"
          }
        },
        "8ef3e5d543d34dba821874a8a74cb953": {
          "model_module": "@jupyter-widgets/controls",
          "model_name": "FloatProgressModel",
          "model_module_version": "2.0.0",
          "state": {
            "_dom_classes": [],
            "_model_module": "@jupyter-widgets/controls",
            "_model_module_version": "2.0.0",
            "_model_name": "FloatProgressModel",
            "_view_count": null,
            "_view_module": "@jupyter-widgets/controls",
            "_view_module_version": "2.0.0",
            "_view_name": "ProgressView",
            "bar_style": "success",
            "description": "",
            "description_allow_html": false,
            "layout": "IPY_MODEL_db9d118090174bf7874d693388082235",
            "max": 363423424,
            "min": 0,
            "orientation": "horizontal",
            "style": "IPY_MODEL_3a7fb9bef5744b8aba77ebb13aeef1ce",
            "tabbable": null,
            "tooltip": null,
            "value": 363423424
          }
        },
        "826477d69daa42f79a2019aea80422ad": {
          "model_module": "@jupyter-widgets/controls",
          "model_name": "HTMLModel",
          "model_module_version": "2.0.0",
          "state": {
            "_dom_classes": [],
            "_model_module": "@jupyter-widgets/controls",
            "_model_module_version": "2.0.0",
            "_model_name": "HTMLModel",
            "_view_count": null,
            "_view_module": "@jupyter-widgets/controls",
            "_view_module_version": "2.0.0",
            "_view_name": "HTMLView",
            "description": "",
            "description_allow_html": false,
            "layout": "IPY_MODEL_50b27decbf2c4974a5b0135073fa678e",
            "placeholder": "​",
            "style": "IPY_MODEL_c6c816b2b5644338b74b8c126483bc28",
            "tabbable": null,
            "tooltip": null,
            "value": " 347M/347M [00:06&lt;00:00, 53.2MB/s]"
          }
        },
        "2e56c0d451cd4966ac9e40de83a92065": {
          "model_module": "@jupyter-widgets/base",
          "model_name": "LayoutModel",
          "model_module_version": "2.0.0",
          "state": {
            "_model_module": "@jupyter-widgets/base",
            "_model_module_version": "2.0.0",
            "_model_name": "LayoutModel",
            "_view_count": null,
            "_view_module": "@jupyter-widgets/base",
            "_view_module_version": "2.0.0",
            "_view_name": "LayoutView",
            "align_content": null,
            "align_items": null,
            "align_self": null,
            "border_bottom": null,
            "border_left": null,
            "border_right": null,
            "border_top": null,
            "bottom": null,
            "display": null,
            "flex": null,
            "flex_flow": null,
            "grid_area": null,
            "grid_auto_columns": null,
            "grid_auto_flow": null,
            "grid_auto_rows": null,
            "grid_column": null,
            "grid_gap": null,
            "grid_row": null,
            "grid_template_areas": null,
            "grid_template_columns": null,
            "grid_template_rows": null,
            "height": null,
            "justify_content": null,
            "justify_items": null,
            "left": null,
            "margin": null,
            "max_height": null,
            "max_width": null,
            "min_height": null,
            "min_width": null,
            "object_fit": null,
            "object_position": null,
            "order": null,
            "overflow": null,
            "padding": null,
            "right": null,
            "top": null,
            "visibility": null,
            "width": null
          }
        },
        "2e762a8595d944f6bed1214f97ccae29": {
          "model_module": "@jupyter-widgets/base",
          "model_name": "LayoutModel",
          "model_module_version": "2.0.0",
          "state": {
            "_model_module": "@jupyter-widgets/base",
            "_model_module_version": "2.0.0",
            "_model_name": "LayoutModel",
            "_view_count": null,
            "_view_module": "@jupyter-widgets/base",
            "_view_module_version": "2.0.0",
            "_view_name": "LayoutView",
            "align_content": null,
            "align_items": null,
            "align_self": null,
            "border_bottom": null,
            "border_left": null,
            "border_right": null,
            "border_top": null,
            "bottom": null,
            "display": null,
            "flex": null,
            "flex_flow": null,
            "grid_area": null,
            "grid_auto_columns": null,
            "grid_auto_flow": null,
            "grid_auto_rows": null,
            "grid_column": null,
            "grid_gap": null,
            "grid_row": null,
            "grid_template_areas": null,
            "grid_template_columns": null,
            "grid_template_rows": null,
            "height": null,
            "justify_content": null,
            "justify_items": null,
            "left": null,
            "margin": null,
            "max_height": null,
            "max_width": null,
            "min_height": null,
            "min_width": null,
            "object_fit": null,
            "object_position": null,
            "order": null,
            "overflow": null,
            "padding": null,
            "right": null,
            "top": null,
            "visibility": null,
            "width": null
          }
        },
        "be77471c30a74bb0abb1bcda2f7c516c": {
          "model_module": "@jupyter-widgets/controls",
          "model_name": "HTMLStyleModel",
          "model_module_version": "2.0.0",
          "state": {
            "_model_module": "@jupyter-widgets/controls",
            "_model_module_version": "2.0.0",
            "_model_name": "HTMLStyleModel",
            "_view_count": null,
            "_view_module": "@jupyter-widgets/base",
            "_view_module_version": "2.0.0",
            "_view_name": "StyleView",
            "background": null,
            "description_width": "",
            "font_size": null,
            "text_color": null
          }
        },
        "db9d118090174bf7874d693388082235": {
          "model_module": "@jupyter-widgets/base",
          "model_name": "LayoutModel",
          "model_module_version": "2.0.0",
          "state": {
            "_model_module": "@jupyter-widgets/base",
            "_model_module_version": "2.0.0",
            "_model_name": "LayoutModel",
            "_view_count": null,
            "_view_module": "@jupyter-widgets/base",
            "_view_module_version": "2.0.0",
            "_view_name": "LayoutView",
            "align_content": null,
            "align_items": null,
            "align_self": null,
            "border_bottom": null,
            "border_left": null,
            "border_right": null,
            "border_top": null,
            "bottom": null,
            "display": null,
            "flex": null,
            "flex_flow": null,
            "grid_area": null,
            "grid_auto_columns": null,
            "grid_auto_flow": null,
            "grid_auto_rows": null,
            "grid_column": null,
            "grid_gap": null,
            "grid_row": null,
            "grid_template_areas": null,
            "grid_template_columns": null,
            "grid_template_rows": null,
            "height": null,
            "justify_content": null,
            "justify_items": null,
            "left": null,
            "margin": null,
            "max_height": null,
            "max_width": null,
            "min_height": null,
            "min_width": null,
            "object_fit": null,
            "object_position": null,
            "order": null,
            "overflow": null,
            "padding": null,
            "right": null,
            "top": null,
            "visibility": null,
            "width": null
          }
        },
        "3a7fb9bef5744b8aba77ebb13aeef1ce": {
          "model_module": "@jupyter-widgets/controls",
          "model_name": "ProgressStyleModel",
          "model_module_version": "2.0.0",
          "state": {
            "_model_module": "@jupyter-widgets/controls",
            "_model_module_version": "2.0.0",
            "_model_name": "ProgressStyleModel",
            "_view_count": null,
            "_view_module": "@jupyter-widgets/base",
            "_view_module_version": "2.0.0",
            "_view_name": "StyleView",
            "bar_color": null,
            "description_width": ""
          }
        },
        "50b27decbf2c4974a5b0135073fa678e": {
          "model_module": "@jupyter-widgets/base",
          "model_name": "LayoutModel",
          "model_module_version": "2.0.0",
          "state": {
            "_model_module": "@jupyter-widgets/base",
            "_model_module_version": "2.0.0",
            "_model_name": "LayoutModel",
            "_view_count": null,
            "_view_module": "@jupyter-widgets/base",
            "_view_module_version": "2.0.0",
            "_view_name": "LayoutView",
            "align_content": null,
            "align_items": null,
            "align_self": null,
            "border_bottom": null,
            "border_left": null,
            "border_right": null,
            "border_top": null,
            "bottom": null,
            "display": null,
            "flex": null,
            "flex_flow": null,
            "grid_area": null,
            "grid_auto_columns": null,
            "grid_auto_flow": null,
            "grid_auto_rows": null,
            "grid_column": null,
            "grid_gap": null,
            "grid_row": null,
            "grid_template_areas": null,
            "grid_template_columns": null,
            "grid_template_rows": null,
            "height": null,
            "justify_content": null,
            "justify_items": null,
            "left": null,
            "margin": null,
            "max_height": null,
            "max_width": null,
            "min_height": null,
            "min_width": null,
            "object_fit": null,
            "object_position": null,
            "order": null,
            "overflow": null,
            "padding": null,
            "right": null,
            "top": null,
            "visibility": null,
            "width": null
          }
        },
        "c6c816b2b5644338b74b8c126483bc28": {
          "model_module": "@jupyter-widgets/controls",
          "model_name": "HTMLStyleModel",
          "model_module_version": "2.0.0",
          "state": {
            "_model_module": "@jupyter-widgets/controls",
            "_model_module_version": "2.0.0",
            "_model_name": "HTMLStyleModel",
            "_view_count": null,
            "_view_module": "@jupyter-widgets/base",
            "_view_module_version": "2.0.0",
            "_view_name": "StyleView",
            "background": null,
            "description_width": "",
            "font_size": null,
            "text_color": null
          }
        }
      }
    }
  },
  "nbformat": 4,
  "nbformat_minor": 0
}
